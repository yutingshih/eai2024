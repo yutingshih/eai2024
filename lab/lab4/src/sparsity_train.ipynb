{
 "cells": [
  {
   "cell_type": "markdown",
   "metadata": {
    "id": "U3at1mhslz9v"
   },
   "source": [
    "##掛載雲端硬碟\n"
   ]
  },
  {
   "cell_type": "code",
   "execution_count": null,
   "metadata": {
    "id": "ijtFdN9tl14V"
   },
   "outputs": [],
   "source": [
    "from google.colab import drive\n",
    "drive.mount('/content/drive')"
   ]
  },
  {
   "cell_type": "markdown",
   "metadata": {
    "id": "q5bhyRZrl4X2"
   },
   "source": [
    "##更改檔案所在路徑"
   ]
  },
  {
   "cell_type": "code",
   "execution_count": null,
   "metadata": {
    "id": "f2RXiD5Bl6a2"
   },
   "outputs": [],
   "source": [
    "# Change to your own folder !!!\n",
    "%cd /content/drive/MyDrive/Colab\\ Notebooks/EAI_Lab4_2023"
   ]
  },
  {
   "cell_type": "markdown",
   "metadata": {
    "id": "gSal5HL0lTHA"
   },
   "source": [
    "## Import library"
   ]
  },
  {
   "cell_type": "code",
   "execution_count": 1,
   "metadata": {
    "id": "6v2iM_kglWj-"
   },
   "outputs": [],
   "source": [
    "from __future__ import print_function\n",
    "import os\n",
    "import argparse\n",
    "\n",
    "import torch\n",
    "import torch.nn as nn\n",
    "import torch.nn.functional as F\n",
    "import torch.optim as optim\n",
    "from torchvision import datasets, transforms\n",
    "from torch.autograd import Variable\n",
    "\n",
    "from models import vgg"
   ]
  },
  {
   "cell_type": "markdown",
   "metadata": {
    "id": "yFgiQGL6mq6W"
   },
   "source": [
    "## 設定超參數(填空)"
   ]
  },
  {
   "cell_type": "code",
   "execution_count": 2,
   "metadata": {
    "id": "a8FQ-IsUmqtP"
   },
   "outputs": [],
   "source": [
    "SPARSITY_REGULARIZATION = True\n",
    "#### 設定λ(balance factor) ####\n",
    "################################################\n",
    "#          請填空          #\n",
    "################################################\n",
    "\n",
    "# LAMBDA = 0\n",
    "# LAMBDA = 1e-5\n",
    "LAMBDA = 1e-4\n",
    "\n",
    "SEED = 1\n",
    "TRAIN_BATCH_SIZE = 100\n",
    "TEST_BATCH_SIZE = 1000\n",
    "EPOCHS = 60\n",
    "LEARNING_RATE = 0.1\n",
    "MOMENTUM = 0.9\n",
    "WEIGHT_DECAY = 1e-4\n",
    "LOG_INTERVAL = 100\n",
    "CUDA = True\n",
    "\n",
    "RESUME = False\n",
    "START_EPOCH = 0\n",
    "\n",
    "# WEIGHT_PATH = '/content/drive/MyDrive/Colab Notebooks/model_best.pth'\n",
    "# WEIGHT_PATH = 'weights/train0.pth'\n",
    "# WEIGHT_PATH = 'weights/train1.pth'\n",
    "WEIGHT_PATH = 'weights/train2.pth'\n"
   ]
  },
  {
   "cell_type": "code",
   "execution_count": 3,
   "metadata": {
    "id": "_Sa1Tmnym3Pn"
   },
   "outputs": [],
   "source": [
    "if(torch.cuda.is_available()):\n",
    "    CUDA = True\n",
    "    kwargs = {'num_workers': 1, 'pin_memory': True}\n",
    "    torch.cuda.manual_seed(SEED)\n",
    "else:\n",
    "    CUDA = False\n",
    "    kwargs = {}\n"
   ]
  },
  {
   "cell_type": "markdown",
   "metadata": {
    "id": "fylf4FTlm7QX"
   },
   "source": [
    "## 下載資料集\n"
   ]
  },
  {
   "cell_type": "markdown",
   "metadata": {
    "id": "erS9S_76nUsG"
   },
   "source": [
    "這裡將訓練集做Augmentation(Pad, RandCrop, Random)，測試集不用做Augmentation"
   ]
  },
  {
   "cell_type": "code",
   "execution_count": 4,
   "metadata": {
    "id": "vBW21uIHm_C-"
   },
   "outputs": [
    {
     "name": "stdout",
     "output_type": "stream",
     "text": [
      "Files already downloaded and verified\n"
     ]
    }
   ],
   "source": [
    "#### 資料集 ####\n",
    "train_loader = torch.utils.data.DataLoader(\n",
    "    datasets.CIFAR10('./data', train=True, download=True,\n",
    "                   transform=transforms.Compose([\n",
    "                       transforms.Pad(4),\n",
    "                       transforms.RandomCrop(32),\n",
    "                       transforms.RandomHorizontalFlip(),\n",
    "                       transforms.ToTensor(),\n",
    "                       transforms.Normalize((0.5, 0.5, 0.5), (0.5, 0.5, 0.5))\n",
    "                   ])),\n",
    "    batch_size=TRAIN_BATCH_SIZE, shuffle=True, **kwargs)\n",
    "test_loader = torch.utils.data.DataLoader(\n",
    "    datasets.CIFAR10('./data', train=False, transform=transforms.Compose([\n",
    "                       transforms.ToTensor(),\n",
    "                       transforms.Normalize((0.5, 0.5, 0.5), (0.5, 0.5, 0.5))\n",
    "                   ])),\n",
    "    batch_size=TEST_BATCH_SIZE, shuffle=True, **kwargs)"
   ]
  },
  {
   "cell_type": "markdown",
   "metadata": {
    "id": "Is49FKBbuRj2"
   },
   "source": [
    "## 定義模型與載入訓練好的權重"
   ]
  },
  {
   "cell_type": "code",
   "execution_count": 5,
   "metadata": {
    "id": "SUbUcHN4uQ89"
   },
   "outputs": [],
   "source": [
    "model = vgg()\n",
    "if CUDA:\n",
    "    model.cuda()"
   ]
  },
  {
   "cell_type": "markdown",
   "metadata": {
    "id": "ZC8ECoKHu7iF"
   },
   "source": [
    "## 設定Optimizer，這裡使用Stocastic Gradient Descent"
   ]
  },
  {
   "cell_type": "code",
   "execution_count": 6,
   "metadata": {
    "id": "EQ-soeyWvGyM"
   },
   "outputs": [],
   "source": [
    "optimizer = optim.SGD(model.parameters(), lr=LEARNING_RATE, momentum=MOMENTUM, weight_decay=WEIGHT_DECAY)"
   ]
  },
  {
   "cell_type": "markdown",
   "metadata": {
    "id": "txRrgb22vLD9"
   },
   "source": [
    "## 使用論文中稀疏化的方式更新參數(填空)"
   ]
  },
  {
   "cell_type": "code",
   "execution_count": 7,
   "metadata": {
    "id": "O7ekcGWXvcXu"
   },
   "outputs": [],
   "source": [
    "def updateBN(LAMBDA):\n",
    "  for m in model.modules():\n",
    "      if isinstance(m, nn.BatchNorm2d):\n",
    "          #### 完成Sparsity Regularization ####\n",
    "          ################################################\n",
    "          #          請填空          #\n",
    "          ################################################\n",
    "          m.weight.grad.data.add_(LAMBDA * torch.sign(m.weight.data))  # L1"
   ]
  },
  {
   "cell_type": "markdown",
   "metadata": {
    "id": "PAD78g28ns_C"
   },
   "source": [
    "## 載入預先定義好的模型與參數"
   ]
  },
  {
   "cell_type": "code",
   "execution_count": 8,
   "metadata": {
    "id": "HKUUpjTan4Zq"
   },
   "outputs": [],
   "source": [
    "if(RESUME):\n",
    "  checkpoint = torch.load(WEIGHT_PATH)\n",
    "  model.load_state_dict(checkpoint['state_dict'])\n",
    "  optimizer.load_state_dict(checkpoint['optimizer'])\n",
    "  START_EPOCH = checkpoint['epoch']\n",
    "  best_prec1 = checkpoint['best_prec1']\n",
    "  print(f'RESUME MODEL @EPOCH={START_EPOCH}, BEST_PREC1={best_prec1}')"
   ]
  },
  {
   "cell_type": "markdown",
   "metadata": {
    "id": "gR2UTh0iwbEF"
   },
   "source": [
    "## 定義訓練跟測試函數"
   ]
  },
  {
   "cell_type": "code",
   "execution_count": 8,
   "metadata": {
    "id": "hQcKuMDee46V"
   },
   "outputs": [
    {
     "name": "stdout",
     "output_type": "stream",
     "text": [
      "Train Epoch: 0 [0/50000 (0.0%)]\tLoss: 2.296834\n",
      "Train Epoch: 0 [10000/50000 (20.0%)]\tLoss: 1.733687\n",
      "Train Epoch: 0 [20000/50000 (40.0%)]\tLoss: 1.577587\n",
      "Train Epoch: 0 [30000/50000 (60.0%)]\tLoss: 1.596001\n",
      "Train Epoch: 0 [40000/50000 (80.0%)]\tLoss: 1.501671\n",
      "\n",
      "Test set: Average loss: 1.4214, Accuracy: 4832/10000 (48.3%)\n",
      "\n",
      "Train Epoch: 1 [0/50000 (0.0%)]\tLoss: 1.105004\n",
      "Train Epoch: 1 [10000/50000 (20.0%)]\tLoss: 1.216898\n",
      "Train Epoch: 1 [20000/50000 (40.0%)]\tLoss: 1.007213\n",
      "Train Epoch: 1 [30000/50000 (60.0%)]\tLoss: 1.147375\n",
      "Train Epoch: 1 [40000/50000 (80.0%)]\tLoss: 1.042875\n",
      "\n",
      "Test set: Average loss: 1.0680, Accuracy: 6428/10000 (64.3%)\n",
      "\n",
      "Train Epoch: 2 [0/50000 (0.0%)]\tLoss: 0.985054\n",
      "Train Epoch: 2 [10000/50000 (20.0%)]\tLoss: 0.828863\n",
      "Train Epoch: 2 [20000/50000 (40.0%)]\tLoss: 0.783534\n",
      "Train Epoch: 2 [30000/50000 (60.0%)]\tLoss: 0.720479\n",
      "Train Epoch: 2 [40000/50000 (80.0%)]\tLoss: 0.837410\n",
      "\n",
      "Test set: Average loss: 0.9197, Accuracy: 6910/10000 (69.1%)\n",
      "\n",
      "Train Epoch: 3 [0/50000 (0.0%)]\tLoss: 0.768200\n",
      "Train Epoch: 3 [10000/50000 (20.0%)]\tLoss: 0.574405\n",
      "Train Epoch: 3 [20000/50000 (40.0%)]\tLoss: 0.892057\n",
      "Train Epoch: 3 [30000/50000 (60.0%)]\tLoss: 0.659391\n",
      "Train Epoch: 3 [40000/50000 (80.0%)]\tLoss: 0.895571\n",
      "\n",
      "Test set: Average loss: 0.8300, Accuracy: 7266/10000 (72.7%)\n",
      "\n",
      "Train Epoch: 4 [0/50000 (0.0%)]\tLoss: 0.696707\n",
      "Train Epoch: 4 [10000/50000 (20.0%)]\tLoss: 0.689223\n",
      "Train Epoch: 4 [20000/50000 (40.0%)]\tLoss: 0.548894\n",
      "Train Epoch: 4 [30000/50000 (60.0%)]\tLoss: 0.503073\n",
      "Train Epoch: 4 [40000/50000 (80.0%)]\tLoss: 0.644929\n",
      "\n",
      "Test set: Average loss: 0.7030, Accuracy: 7680/10000 (76.8%)\n",
      "\n",
      "Train Epoch: 5 [0/50000 (0.0%)]\tLoss: 0.728651\n",
      "Train Epoch: 5 [10000/50000 (20.0%)]\tLoss: 0.524144\n",
      "Train Epoch: 5 [20000/50000 (40.0%)]\tLoss: 0.606309\n",
      "Train Epoch: 5 [30000/50000 (60.0%)]\tLoss: 0.626205\n",
      "Train Epoch: 5 [40000/50000 (80.0%)]\tLoss: 0.625661\n",
      "\n",
      "Test set: Average loss: 0.6606, Accuracy: 7781/10000 (77.8%)\n",
      "\n",
      "Train Epoch: 6 [0/50000 (0.0%)]\tLoss: 0.692159\n",
      "Train Epoch: 6 [10000/50000 (20.0%)]\tLoss: 0.390224\n",
      "Train Epoch: 6 [20000/50000 (40.0%)]\tLoss: 0.553488\n",
      "Train Epoch: 6 [30000/50000 (60.0%)]\tLoss: 0.361465\n",
      "Train Epoch: 6 [40000/50000 (80.0%)]\tLoss: 0.566077\n",
      "\n",
      "Test set: Average loss: 0.6074, Accuracy: 8042/10000 (80.4%)\n",
      "\n",
      "Train Epoch: 7 [0/50000 (0.0%)]\tLoss: 0.574296\n",
      "Train Epoch: 7 [10000/50000 (20.0%)]\tLoss: 0.354934\n",
      "Train Epoch: 7 [20000/50000 (40.0%)]\tLoss: 0.395336\n",
      "Train Epoch: 7 [30000/50000 (60.0%)]\tLoss: 0.620260\n",
      "Train Epoch: 7 [40000/50000 (80.0%)]\tLoss: 0.361878\n",
      "\n",
      "Test set: Average loss: 0.5948, Accuracy: 8078/10000 (80.8%)\n",
      "\n",
      "Train Epoch: 8 [0/50000 (0.0%)]\tLoss: 0.547863\n",
      "Train Epoch: 8 [10000/50000 (20.0%)]\tLoss: 0.371979\n",
      "Train Epoch: 8 [20000/50000 (40.0%)]\tLoss: 0.525789\n",
      "Train Epoch: 8 [30000/50000 (60.0%)]\tLoss: 0.568087\n",
      "Train Epoch: 8 [40000/50000 (80.0%)]\tLoss: 0.508976\n",
      "\n",
      "Test set: Average loss: 0.8451, Accuracy: 7425/10000 (74.2%)\n",
      "\n",
      "Train Epoch: 9 [0/50000 (0.0%)]\tLoss: 0.373849\n",
      "Train Epoch: 9 [10000/50000 (20.0%)]\tLoss: 0.510547\n",
      "Train Epoch: 9 [20000/50000 (40.0%)]\tLoss: 0.546445\n",
      "Train Epoch: 9 [30000/50000 (60.0%)]\tLoss: 0.505789\n",
      "Train Epoch: 9 [40000/50000 (80.0%)]\tLoss: 0.505421\n",
      "\n",
      "Test set: Average loss: 0.6652, Accuracy: 7921/10000 (79.2%)\n",
      "\n",
      "Train Epoch: 10 [0/50000 (0.0%)]\tLoss: 0.373922\n",
      "Train Epoch: 10 [10000/50000 (20.0%)]\tLoss: 0.438751\n",
      "Train Epoch: 10 [20000/50000 (40.0%)]\tLoss: 0.394495\n",
      "Train Epoch: 10 [30000/50000 (60.0%)]\tLoss: 0.351956\n",
      "Train Epoch: 10 [40000/50000 (80.0%)]\tLoss: 0.445422\n",
      "\n",
      "Test set: Average loss: 0.5418, Accuracy: 8234/10000 (82.3%)\n",
      "\n",
      "Train Epoch: 11 [0/50000 (0.0%)]\tLoss: 0.415603\n",
      "Train Epoch: 11 [10000/50000 (20.0%)]\tLoss: 0.487681\n",
      "Train Epoch: 11 [20000/50000 (40.0%)]\tLoss: 0.313074\n",
      "Train Epoch: 11 [30000/50000 (60.0%)]\tLoss: 0.467261\n",
      "Train Epoch: 11 [40000/50000 (80.0%)]\tLoss: 0.460415\n",
      "\n",
      "Test set: Average loss: 0.4852, Accuracy: 8427/10000 (84.3%)\n",
      "\n",
      "Train Epoch: 12 [0/50000 (0.0%)]\tLoss: 0.448801\n",
      "Train Epoch: 12 [10000/50000 (20.0%)]\tLoss: 0.489042\n",
      "Train Epoch: 12 [20000/50000 (40.0%)]\tLoss: 0.303765\n",
      "Train Epoch: 12 [30000/50000 (60.0%)]\tLoss: 0.322337\n",
      "Train Epoch: 12 [40000/50000 (80.0%)]\tLoss: 0.435507\n",
      "\n",
      "Test set: Average loss: 0.5132, Accuracy: 8381/10000 (83.8%)\n",
      "\n",
      "Train Epoch: 13 [0/50000 (0.0%)]\tLoss: 0.501092\n",
      "Train Epoch: 13 [10000/50000 (20.0%)]\tLoss: 0.245075\n",
      "Train Epoch: 13 [20000/50000 (40.0%)]\tLoss: 0.377649\n",
      "Train Epoch: 13 [30000/50000 (60.0%)]\tLoss: 0.334175\n",
      "Train Epoch: 13 [40000/50000 (80.0%)]\tLoss: 0.308292\n",
      "\n",
      "Test set: Average loss: 0.5604, Accuracy: 8199/10000 (82.0%)\n",
      "\n",
      "Train Epoch: 14 [0/50000 (0.0%)]\tLoss: 0.442649\n",
      "Train Epoch: 14 [10000/50000 (20.0%)]\tLoss: 0.244233\n",
      "Train Epoch: 14 [20000/50000 (40.0%)]\tLoss: 0.564103\n",
      "Train Epoch: 14 [30000/50000 (60.0%)]\tLoss: 0.460506\n",
      "Train Epoch: 14 [40000/50000 (80.0%)]\tLoss: 0.268051\n",
      "\n",
      "Test set: Average loss: 0.6600, Accuracy: 7924/10000 (79.2%)\n",
      "\n",
      "Train Epoch: 15 [0/50000 (0.0%)]\tLoss: 0.305469\n",
      "Train Epoch: 15 [10000/50000 (20.0%)]\tLoss: 0.527521\n",
      "Train Epoch: 15 [20000/50000 (40.0%)]\tLoss: 0.441453\n",
      "Train Epoch: 15 [30000/50000 (60.0%)]\tLoss: 0.327768\n",
      "Train Epoch: 15 [40000/50000 (80.0%)]\tLoss: 0.399284\n",
      "\n",
      "Test set: Average loss: 0.5326, Accuracy: 8353/10000 (83.5%)\n",
      "\n",
      "Train Epoch: 16 [0/50000 (0.0%)]\tLoss: 0.342524\n",
      "Train Epoch: 16 [10000/50000 (20.0%)]\tLoss: 0.222543\n",
      "Train Epoch: 16 [20000/50000 (40.0%)]\tLoss: 0.268281\n",
      "Train Epoch: 16 [30000/50000 (60.0%)]\tLoss: 0.387631\n",
      "Train Epoch: 16 [40000/50000 (80.0%)]\tLoss: 0.255006\n",
      "\n",
      "Test set: Average loss: 0.5476, Accuracy: 8248/10000 (82.5%)\n",
      "\n",
      "Train Epoch: 17 [0/50000 (0.0%)]\tLoss: 0.328238\n",
      "Train Epoch: 17 [10000/50000 (20.0%)]\tLoss: 0.563174\n",
      "Train Epoch: 17 [20000/50000 (40.0%)]\tLoss: 0.539795\n",
      "Train Epoch: 17 [30000/50000 (60.0%)]\tLoss: 0.235444\n",
      "Train Epoch: 17 [40000/50000 (80.0%)]\tLoss: 0.337253\n",
      "\n",
      "Test set: Average loss: 0.5381, Accuracy: 8268/10000 (82.7%)\n",
      "\n",
      "Train Epoch: 18 [0/50000 (0.0%)]\tLoss: 0.280326\n",
      "Train Epoch: 18 [10000/50000 (20.0%)]\tLoss: 0.283444\n",
      "Train Epoch: 18 [20000/50000 (40.0%)]\tLoss: 0.216060\n",
      "Train Epoch: 18 [30000/50000 (60.0%)]\tLoss: 0.345147\n",
      "Train Epoch: 18 [40000/50000 (80.0%)]\tLoss: 0.344389\n",
      "\n",
      "Test set: Average loss: 0.6265, Accuracy: 8166/10000 (81.7%)\n",
      "\n",
      "Train Epoch: 19 [0/50000 (0.0%)]\tLoss: 0.263529\n",
      "Train Epoch: 19 [10000/50000 (20.0%)]\tLoss: 0.338009\n",
      "Train Epoch: 19 [20000/50000 (40.0%)]\tLoss: 0.356623\n",
      "Train Epoch: 19 [30000/50000 (60.0%)]\tLoss: 0.328846\n",
      "Train Epoch: 19 [40000/50000 (80.0%)]\tLoss: 0.267304\n",
      "\n",
      "Test set: Average loss: 0.5460, Accuracy: 8230/10000 (82.3%)\n",
      "\n",
      "Train Epoch: 20 [0/50000 (0.0%)]\tLoss: 0.308765\n",
      "Train Epoch: 20 [10000/50000 (20.0%)]\tLoss: 0.292965\n",
      "Train Epoch: 20 [20000/50000 (40.0%)]\tLoss: 0.180325\n",
      "Train Epoch: 20 [30000/50000 (60.0%)]\tLoss: 0.323816\n",
      "Train Epoch: 20 [40000/50000 (80.0%)]\tLoss: 0.377387\n",
      "\n",
      "Test set: Average loss: 0.5702, Accuracy: 8304/10000 (83.0%)\n",
      "\n",
      "Train Epoch: 21 [0/50000 (0.0%)]\tLoss: 0.442877\n",
      "Train Epoch: 21 [10000/50000 (20.0%)]\tLoss: 0.308898\n",
      "Train Epoch: 21 [20000/50000 (40.0%)]\tLoss: 0.384803\n",
      "Train Epoch: 21 [30000/50000 (60.0%)]\tLoss: 0.284101\n",
      "Train Epoch: 21 [40000/50000 (80.0%)]\tLoss: 0.193624\n",
      "\n",
      "Test set: Average loss: 0.4755, Accuracy: 8596/10000 (86.0%)\n",
      "\n",
      "Train Epoch: 22 [0/50000 (0.0%)]\tLoss: 0.230629\n",
      "Train Epoch: 22 [10000/50000 (20.0%)]\tLoss: 0.304751\n",
      "Train Epoch: 22 [20000/50000 (40.0%)]\tLoss: 0.309351\n",
      "Train Epoch: 22 [30000/50000 (60.0%)]\tLoss: 0.251565\n",
      "Train Epoch: 22 [40000/50000 (80.0%)]\tLoss: 0.213790\n",
      "\n",
      "Test set: Average loss: 0.5425, Accuracy: 8383/10000 (83.8%)\n",
      "\n",
      "Train Epoch: 23 [0/50000 (0.0%)]\tLoss: 0.184060\n",
      "Train Epoch: 23 [10000/50000 (20.0%)]\tLoss: 0.258275\n",
      "Train Epoch: 23 [20000/50000 (40.0%)]\tLoss: 0.358632\n",
      "Train Epoch: 23 [30000/50000 (60.0%)]\tLoss: 0.267144\n",
      "Train Epoch: 23 [40000/50000 (80.0%)]\tLoss: 0.283058\n",
      "\n",
      "Test set: Average loss: 0.4723, Accuracy: 8545/10000 (85.4%)\n",
      "\n",
      "Train Epoch: 24 [0/50000 (0.0%)]\tLoss: 0.295188\n",
      "Train Epoch: 24 [10000/50000 (20.0%)]\tLoss: 0.421025\n",
      "Train Epoch: 24 [20000/50000 (40.0%)]\tLoss: 0.272481\n",
      "Train Epoch: 24 [30000/50000 (60.0%)]\tLoss: 0.332055\n",
      "Train Epoch: 24 [40000/50000 (80.0%)]\tLoss: 0.308858\n",
      "\n",
      "Test set: Average loss: 0.6952, Accuracy: 8014/10000 (80.1%)\n",
      "\n",
      "Train Epoch: 25 [0/50000 (0.0%)]\tLoss: 0.429254\n",
      "Train Epoch: 25 [10000/50000 (20.0%)]\tLoss: 0.309943\n",
      "Train Epoch: 25 [20000/50000 (40.0%)]\tLoss: 0.296747\n",
      "Train Epoch: 25 [30000/50000 (60.0%)]\tLoss: 0.429649\n",
      "Train Epoch: 25 [40000/50000 (80.0%)]\tLoss: 0.302850\n",
      "\n",
      "Test set: Average loss: 0.5561, Accuracy: 8342/10000 (83.4%)\n",
      "\n",
      "Train Epoch: 26 [0/50000 (0.0%)]\tLoss: 0.341613\n",
      "Train Epoch: 26 [10000/50000 (20.0%)]\tLoss: 0.247663\n",
      "Train Epoch: 26 [20000/50000 (40.0%)]\tLoss: 0.269849\n",
      "Train Epoch: 26 [30000/50000 (60.0%)]\tLoss: 0.267388\n",
      "Train Epoch: 26 [40000/50000 (80.0%)]\tLoss: 0.150863\n",
      "\n",
      "Test set: Average loss: 0.5379, Accuracy: 8397/10000 (84.0%)\n",
      "\n",
      "Train Epoch: 27 [0/50000 (0.0%)]\tLoss: 0.293811\n",
      "Train Epoch: 27 [10000/50000 (20.0%)]\tLoss: 0.176852\n",
      "Train Epoch: 27 [20000/50000 (40.0%)]\tLoss: 0.214111\n",
      "Train Epoch: 27 [30000/50000 (60.0%)]\tLoss: 0.331002\n",
      "Train Epoch: 27 [40000/50000 (80.0%)]\tLoss: 0.298619\n",
      "\n",
      "Test set: Average loss: 0.3915, Accuracy: 8765/10000 (87.7%)\n",
      "\n",
      "Train Epoch: 28 [0/50000 (0.0%)]\tLoss: 0.179696\n",
      "Train Epoch: 28 [10000/50000 (20.0%)]\tLoss: 0.180180\n",
      "Train Epoch: 28 [20000/50000 (40.0%)]\tLoss: 0.311580\n",
      "Train Epoch: 28 [30000/50000 (60.0%)]\tLoss: 0.416365\n",
      "Train Epoch: 28 [40000/50000 (80.0%)]\tLoss: 0.201092\n",
      "\n",
      "Test set: Average loss: 0.5735, Accuracy: 8290/10000 (82.9%)\n",
      "\n",
      "Train Epoch: 29 [0/50000 (0.0%)]\tLoss: 0.263644\n",
      "Train Epoch: 29 [10000/50000 (20.0%)]\tLoss: 0.345967\n",
      "Train Epoch: 29 [20000/50000 (40.0%)]\tLoss: 0.127731\n",
      "Train Epoch: 29 [30000/50000 (60.0%)]\tLoss: 0.188822\n",
      "Train Epoch: 29 [40000/50000 (80.0%)]\tLoss: 0.288112\n",
      "\n",
      "Test set: Average loss: 0.4763, Accuracy: 8551/10000 (85.5%)\n",
      "\n",
      "Train Epoch: 30 [0/50000 (0.0%)]\tLoss: 0.344803\n",
      "Train Epoch: 30 [10000/50000 (20.0%)]\tLoss: 0.180554\n",
      "Train Epoch: 30 [20000/50000 (40.0%)]\tLoss: 0.078846\n",
      "Train Epoch: 30 [30000/50000 (60.0%)]\tLoss: 0.123170\n",
      "Train Epoch: 30 [40000/50000 (80.0%)]\tLoss: 0.100610\n",
      "\n",
      "Test set: Average loss: 0.2589, Accuracy: 9195/10000 (91.9%)\n",
      "\n",
      "Train Epoch: 31 [0/50000 (0.0%)]\tLoss: 0.208536\n",
      "Train Epoch: 31 [10000/50000 (20.0%)]\tLoss: 0.151167\n",
      "Train Epoch: 31 [20000/50000 (40.0%)]\tLoss: 0.040009\n",
      "Train Epoch: 31 [30000/50000 (60.0%)]\tLoss: 0.147339\n",
      "Train Epoch: 31 [40000/50000 (80.0%)]\tLoss: 0.056635\n",
      "\n",
      "Test set: Average loss: 0.2598, Accuracy: 9190/10000 (91.9%)\n",
      "\n",
      "Train Epoch: 32 [0/50000 (0.0%)]\tLoss: 0.066838\n",
      "Train Epoch: 32 [10000/50000 (20.0%)]\tLoss: 0.111738\n",
      "Train Epoch: 32 [20000/50000 (40.0%)]\tLoss: 0.063942\n",
      "Train Epoch: 32 [30000/50000 (60.0%)]\tLoss: 0.067916\n",
      "Train Epoch: 32 [40000/50000 (80.0%)]\tLoss: 0.128812\n",
      "\n",
      "Test set: Average loss: 0.2703, Accuracy: 9177/10000 (91.8%)\n",
      "\n",
      "Train Epoch: 33 [0/50000 (0.0%)]\tLoss: 0.059350\n",
      "Train Epoch: 33 [10000/50000 (20.0%)]\tLoss: 0.073897\n",
      "Train Epoch: 33 [20000/50000 (40.0%)]\tLoss: 0.072172\n",
      "Train Epoch: 33 [30000/50000 (60.0%)]\tLoss: 0.018870\n",
      "Train Epoch: 33 [40000/50000 (80.0%)]\tLoss: 0.031317\n",
      "\n",
      "Test set: Average loss: 0.2717, Accuracy: 9203/10000 (92.0%)\n",
      "\n",
      "Train Epoch: 34 [0/50000 (0.0%)]\tLoss: 0.023819\n",
      "Train Epoch: 34 [10000/50000 (20.0%)]\tLoss: 0.034138\n",
      "Train Epoch: 34 [20000/50000 (40.0%)]\tLoss: 0.078587\n",
      "Train Epoch: 34 [30000/50000 (60.0%)]\tLoss: 0.079535\n",
      "Train Epoch: 34 [40000/50000 (80.0%)]\tLoss: 0.057857\n",
      "\n",
      "Test set: Average loss: 0.2642, Accuracy: 9219/10000 (92.2%)\n",
      "\n",
      "Train Epoch: 35 [0/50000 (0.0%)]\tLoss: 0.106887\n",
      "Train Epoch: 35 [10000/50000 (20.0%)]\tLoss: 0.114001\n",
      "Train Epoch: 35 [20000/50000 (40.0%)]\tLoss: 0.064202\n",
      "Train Epoch: 35 [30000/50000 (60.0%)]\tLoss: 0.022024\n",
      "Train Epoch: 35 [40000/50000 (80.0%)]\tLoss: 0.018692\n",
      "\n",
      "Test set: Average loss: 0.2744, Accuracy: 9207/10000 (92.1%)\n",
      "\n",
      "Train Epoch: 36 [0/50000 (0.0%)]\tLoss: 0.015625\n",
      "Train Epoch: 36 [10000/50000 (20.0%)]\tLoss: 0.044435\n",
      "Train Epoch: 36 [20000/50000 (40.0%)]\tLoss: 0.095773\n",
      "Train Epoch: 36 [30000/50000 (60.0%)]\tLoss: 0.136358\n",
      "Train Epoch: 36 [40000/50000 (80.0%)]\tLoss: 0.053605\n",
      "\n",
      "Test set: Average loss: 0.2763, Accuracy: 9214/10000 (92.1%)\n",
      "\n",
      "Train Epoch: 37 [0/50000 (0.0%)]\tLoss: 0.099395\n",
      "Train Epoch: 37 [10000/50000 (20.0%)]\tLoss: 0.077386\n",
      "Train Epoch: 37 [20000/50000 (40.0%)]\tLoss: 0.041438\n",
      "Train Epoch: 37 [30000/50000 (60.0%)]\tLoss: 0.106472\n",
      "Train Epoch: 37 [40000/50000 (80.0%)]\tLoss: 0.064416\n",
      "\n",
      "Test set: Average loss: 0.2773, Accuracy: 9202/10000 (92.0%)\n",
      "\n",
      "Train Epoch: 38 [0/50000 (0.0%)]\tLoss: 0.038934\n",
      "Train Epoch: 38 [10000/50000 (20.0%)]\tLoss: 0.037060\n",
      "Train Epoch: 38 [20000/50000 (40.0%)]\tLoss: 0.072723\n",
      "Train Epoch: 38 [30000/50000 (60.0%)]\tLoss: 0.110187\n",
      "Train Epoch: 38 [40000/50000 (80.0%)]\tLoss: 0.046813\n",
      "\n",
      "Test set: Average loss: 0.2837, Accuracy: 9230/10000 (92.3%)\n",
      "\n",
      "Train Epoch: 39 [0/50000 (0.0%)]\tLoss: 0.040879\n",
      "Train Epoch: 39 [10000/50000 (20.0%)]\tLoss: 0.030732\n",
      "Train Epoch: 39 [20000/50000 (40.0%)]\tLoss: 0.011937\n",
      "Train Epoch: 39 [30000/50000 (60.0%)]\tLoss: 0.017501\n",
      "Train Epoch: 39 [40000/50000 (80.0%)]\tLoss: 0.046147\n",
      "\n",
      "Test set: Average loss: 0.2847, Accuracy: 9217/10000 (92.2%)\n",
      "\n",
      "Train Epoch: 40 [0/50000 (0.0%)]\tLoss: 0.031561\n",
      "Train Epoch: 40 [10000/50000 (20.0%)]\tLoss: 0.062782\n",
      "Train Epoch: 40 [20000/50000 (40.0%)]\tLoss: 0.082655\n",
      "Train Epoch: 40 [30000/50000 (60.0%)]\tLoss: 0.026645\n",
      "Train Epoch: 40 [40000/50000 (80.0%)]\tLoss: 0.041480\n",
      "\n",
      "Test set: Average loss: 0.2976, Accuracy: 9208/10000 (92.1%)\n",
      "\n",
      "Train Epoch: 41 [0/50000 (0.0%)]\tLoss: 0.038649\n",
      "Train Epoch: 41 [10000/50000 (20.0%)]\tLoss: 0.030080\n",
      "Train Epoch: 41 [20000/50000 (40.0%)]\tLoss: 0.045371\n",
      "Train Epoch: 41 [30000/50000 (60.0%)]\tLoss: 0.024435\n",
      "Train Epoch: 41 [40000/50000 (80.0%)]\tLoss: 0.017649\n",
      "\n",
      "Test set: Average loss: 0.2976, Accuracy: 9199/10000 (92.0%)\n",
      "\n",
      "Train Epoch: 42 [0/50000 (0.0%)]\tLoss: 0.057582\n",
      "Train Epoch: 42 [10000/50000 (20.0%)]\tLoss: 0.028674\n",
      "Train Epoch: 42 [20000/50000 (40.0%)]\tLoss: 0.025405\n",
      "Train Epoch: 42 [30000/50000 (60.0%)]\tLoss: 0.026121\n",
      "Train Epoch: 42 [40000/50000 (80.0%)]\tLoss: 0.034701\n",
      "\n",
      "Test set: Average loss: 0.3061, Accuracy: 9190/10000 (91.9%)\n",
      "\n",
      "Train Epoch: 43 [0/50000 (0.0%)]\tLoss: 0.008169\n",
      "Train Epoch: 43 [10000/50000 (20.0%)]\tLoss: 0.043185\n",
      "Train Epoch: 43 [20000/50000 (40.0%)]\tLoss: 0.048815\n",
      "Train Epoch: 43 [30000/50000 (60.0%)]\tLoss: 0.025771\n",
      "Train Epoch: 43 [40000/50000 (80.0%)]\tLoss: 0.046067\n",
      "\n",
      "Test set: Average loss: 0.3015, Accuracy: 9224/10000 (92.2%)\n",
      "\n",
      "Train Epoch: 44 [0/50000 (0.0%)]\tLoss: 0.079160\n",
      "Train Epoch: 44 [10000/50000 (20.0%)]\tLoss: 0.016409\n",
      "Train Epoch: 44 [20000/50000 (40.0%)]\tLoss: 0.030527\n",
      "Train Epoch: 44 [30000/50000 (60.0%)]\tLoss: 0.062710\n",
      "Train Epoch: 44 [40000/50000 (80.0%)]\tLoss: 0.055747\n",
      "\n",
      "Test set: Average loss: 0.3277, Accuracy: 9204/10000 (92.0%)\n",
      "\n",
      "Train Epoch: 45 [0/50000 (0.0%)]\tLoss: 0.101055\n",
      "Train Epoch: 45 [10000/50000 (20.0%)]\tLoss: 0.015770\n",
      "Train Epoch: 45 [20000/50000 (40.0%)]\tLoss: 0.047364\n",
      "Train Epoch: 45 [30000/50000 (60.0%)]\tLoss: 0.005693\n",
      "Train Epoch: 45 [40000/50000 (80.0%)]\tLoss: 0.058812\n",
      "\n",
      "Test set: Average loss: 0.3039, Accuracy: 9233/10000 (92.3%)\n",
      "\n",
      "Train Epoch: 46 [0/50000 (0.0%)]\tLoss: 0.007671\n",
      "Train Epoch: 46 [10000/50000 (20.0%)]\tLoss: 0.045108\n",
      "Train Epoch: 46 [20000/50000 (40.0%)]\tLoss: 0.032726\n",
      "Train Epoch: 46 [30000/50000 (60.0%)]\tLoss: 0.009011\n",
      "Train Epoch: 46 [40000/50000 (80.0%)]\tLoss: 0.004898\n",
      "\n",
      "Test set: Average loss: 0.3007, Accuracy: 9249/10000 (92.5%)\n",
      "\n",
      "Train Epoch: 47 [0/50000 (0.0%)]\tLoss: 0.020233\n",
      "Train Epoch: 47 [10000/50000 (20.0%)]\tLoss: 0.021008\n",
      "Train Epoch: 47 [20000/50000 (40.0%)]\tLoss: 0.007112\n",
      "Train Epoch: 47 [30000/50000 (60.0%)]\tLoss: 0.010732\n",
      "Train Epoch: 47 [40000/50000 (80.0%)]\tLoss: 0.016236\n",
      "\n",
      "Test set: Average loss: 0.3032, Accuracy: 9263/10000 (92.6%)\n",
      "\n",
      "Train Epoch: 48 [0/50000 (0.0%)]\tLoss: 0.010627\n",
      "Train Epoch: 48 [10000/50000 (20.0%)]\tLoss: 0.014347\n",
      "Train Epoch: 48 [20000/50000 (40.0%)]\tLoss: 0.006194\n",
      "Train Epoch: 48 [30000/50000 (60.0%)]\tLoss: 0.006330\n",
      "Train Epoch: 48 [40000/50000 (80.0%)]\tLoss: 0.037465\n",
      "\n",
      "Test set: Average loss: 0.3041, Accuracy: 9261/10000 (92.6%)\n",
      "\n",
      "Train Epoch: 49 [0/50000 (0.0%)]\tLoss: 0.016561\n",
      "Train Epoch: 49 [10000/50000 (20.0%)]\tLoss: 0.035478\n",
      "Train Epoch: 49 [20000/50000 (40.0%)]\tLoss: 0.009138\n",
      "Train Epoch: 49 [30000/50000 (60.0%)]\tLoss: 0.049896\n",
      "Train Epoch: 49 [40000/50000 (80.0%)]\tLoss: 0.006093\n",
      "\n",
      "Test set: Average loss: 0.3089, Accuracy: 9247/10000 (92.5%)\n",
      "\n",
      "Train Epoch: 50 [0/50000 (0.0%)]\tLoss: 0.049981\n",
      "Train Epoch: 50 [10000/50000 (20.0%)]\tLoss: 0.029290\n",
      "Train Epoch: 50 [20000/50000 (40.0%)]\tLoss: 0.033015\n",
      "Train Epoch: 50 [30000/50000 (60.0%)]\tLoss: 0.019267\n",
      "Train Epoch: 50 [40000/50000 (80.0%)]\tLoss: 0.029541\n",
      "\n",
      "Test set: Average loss: 0.3066, Accuracy: 9257/10000 (92.6%)\n",
      "\n",
      "Train Epoch: 51 [0/50000 (0.0%)]\tLoss: 0.022819\n",
      "Train Epoch: 51 [10000/50000 (20.0%)]\tLoss: 0.004840\n",
      "Train Epoch: 51 [20000/50000 (40.0%)]\tLoss: 0.074850\n",
      "Train Epoch: 51 [30000/50000 (60.0%)]\tLoss: 0.003571\n",
      "Train Epoch: 51 [40000/50000 (80.0%)]\tLoss: 0.046047\n",
      "\n",
      "Test set: Average loss: 0.3079, Accuracy: 9245/10000 (92.4%)\n",
      "\n",
      "Train Epoch: 52 [0/50000 (0.0%)]\tLoss: 0.004760\n",
      "Train Epoch: 52 [10000/50000 (20.0%)]\tLoss: 0.002149\n",
      "Train Epoch: 52 [20000/50000 (40.0%)]\tLoss: 0.022219\n",
      "Train Epoch: 52 [30000/50000 (60.0%)]\tLoss: 0.004900\n",
      "Train Epoch: 52 [40000/50000 (80.0%)]\tLoss: 0.020322\n",
      "\n",
      "Test set: Average loss: 0.3132, Accuracy: 9240/10000 (92.4%)\n",
      "\n",
      "Train Epoch: 53 [0/50000 (0.0%)]\tLoss: 0.005331\n",
      "Train Epoch: 53 [10000/50000 (20.0%)]\tLoss: 0.002729\n",
      "Train Epoch: 53 [20000/50000 (40.0%)]\tLoss: 0.009298\n",
      "Train Epoch: 53 [30000/50000 (60.0%)]\tLoss: 0.030121\n",
      "Train Epoch: 53 [40000/50000 (80.0%)]\tLoss: 0.035271\n",
      "\n",
      "Test set: Average loss: 0.3116, Accuracy: 9261/10000 (92.6%)\n",
      "\n",
      "Train Epoch: 54 [0/50000 (0.0%)]\tLoss: 0.057174\n",
      "Train Epoch: 54 [10000/50000 (20.0%)]\tLoss: 0.026547\n",
      "Train Epoch: 54 [20000/50000 (40.0%)]\tLoss: 0.010988\n",
      "Train Epoch: 54 [30000/50000 (60.0%)]\tLoss: 0.012989\n",
      "Train Epoch: 54 [40000/50000 (80.0%)]\tLoss: 0.014562\n",
      "\n",
      "Test set: Average loss: 0.3088, Accuracy: 9267/10000 (92.7%)\n",
      "\n",
      "Train Epoch: 55 [0/50000 (0.0%)]\tLoss: 0.075785\n",
      "Train Epoch: 55 [10000/50000 (20.0%)]\tLoss: 0.014247\n",
      "Train Epoch: 55 [20000/50000 (40.0%)]\tLoss: 0.053369\n",
      "Train Epoch: 55 [30000/50000 (60.0%)]\tLoss: 0.006408\n",
      "Train Epoch: 55 [40000/50000 (80.0%)]\tLoss: 0.025087\n",
      "\n",
      "Test set: Average loss: 0.3110, Accuracy: 9271/10000 (92.7%)\n",
      "\n",
      "Train Epoch: 56 [0/50000 (0.0%)]\tLoss: 0.031103\n",
      "Train Epoch: 56 [10000/50000 (20.0%)]\tLoss: 0.022540\n",
      "Train Epoch: 56 [20000/50000 (40.0%)]\tLoss: 0.002040\n",
      "Train Epoch: 56 [30000/50000 (60.0%)]\tLoss: 0.054266\n",
      "Train Epoch: 56 [40000/50000 (80.0%)]\tLoss: 0.004074\n",
      "\n",
      "Test set: Average loss: 0.3125, Accuracy: 9260/10000 (92.6%)\n",
      "\n",
      "Train Epoch: 57 [0/50000 (0.0%)]\tLoss: 0.009548\n",
      "Train Epoch: 57 [10000/50000 (20.0%)]\tLoss: 0.003575\n",
      "Train Epoch: 57 [20000/50000 (40.0%)]\tLoss: 0.006504\n",
      "Train Epoch: 57 [30000/50000 (60.0%)]\tLoss: 0.003882\n",
      "Train Epoch: 57 [40000/50000 (80.0%)]\tLoss: 0.033590\n",
      "\n",
      "Test set: Average loss: 0.3141, Accuracy: 9253/10000 (92.5%)\n",
      "\n",
      "Train Epoch: 58 [0/50000 (0.0%)]\tLoss: 0.010836\n",
      "Train Epoch: 58 [10000/50000 (20.0%)]\tLoss: 0.006518\n",
      "Train Epoch: 58 [20000/50000 (40.0%)]\tLoss: 0.001004\n",
      "Train Epoch: 58 [30000/50000 (60.0%)]\tLoss: 0.008781\n",
      "Train Epoch: 58 [40000/50000 (80.0%)]\tLoss: 0.021429\n",
      "\n",
      "Test set: Average loss: 0.3186, Accuracy: 9247/10000 (92.5%)\n",
      "\n",
      "Train Epoch: 59 [0/50000 (0.0%)]\tLoss: 0.046841\n",
      "Train Epoch: 59 [10000/50000 (20.0%)]\tLoss: 0.012983\n",
      "Train Epoch: 59 [20000/50000 (40.0%)]\tLoss: 0.004921\n",
      "Train Epoch: 59 [30000/50000 (60.0%)]\tLoss: 0.002042\n",
      "Train Epoch: 59 [40000/50000 (80.0%)]\tLoss: 0.009732\n",
      "\n",
      "Test set: Average loss: 0.3176, Accuracy: 9263/10000 (92.6%)\n",
      "\n"
     ]
    }
   ],
   "source": [
    "#### 訓練函數 #####\n",
    "\n",
    "# 注意: 需自行撰寫儲存每個epoch之train acc的code，以便後續繪製train acc結果圖!\n",
    "def train(epoch, LAMBDA=0):\n",
    "    model.train()\n",
    "    total, correct = 0, 0\n",
    "\n",
    "    for batch_idx, (data, target) in enumerate(train_loader):\n",
    "        if CUDA:\n",
    "            data, target = data.cuda(), target.cuda()\n",
    "        data, target = Variable(data), Variable(target)\n",
    "        optimizer.zero_grad()\n",
    "        output = model(data)\n",
    "        loss = F.cross_entropy(output, target)\n",
    "        loss.backward()\n",
    "\n",
    "        if SPARSITY_REGULARIZATION:\n",
    "            updateBN(LAMBDA)\n",
    "        optimizer.step()\n",
    "\n",
    "        total += len(data)\n",
    "        correct += (output.max(1)[1].view(target.size()) == target).sum().item()\n",
    "\n",
    "        if batch_idx % LOG_INTERVAL == 0:\n",
    "            print('Train Epoch: {} [{}/{} ({:.1f}%)]\\tLoss: {:.6f}'.format(\n",
    "                epoch, batch_idx * len(data), len(train_loader.dataset),\n",
    "                100. * batch_idx / len(train_loader), loss.data.item()))\n",
    "\n",
    "    train_acc = correct / total\n",
    "    return train_acc\n",
    "\n",
    "\n",
    "\n",
    "#### 測試函數 ####\n",
    "def test():\n",
    "    model.eval()\n",
    "    test_loss = 0\n",
    "    correct = 0\n",
    "\n",
    "    with torch.no_grad():\n",
    "      for data, target in test_loader:\n",
    "          if CUDA:\n",
    "              data, target = data.cuda(), target.cuda()\n",
    "          data, target = Variable(data), Variable(target)\n",
    "          output = model(data)\n",
    "          test_loss += F.cross_entropy(output, target, reduction='sum').data.item()\n",
    "          pred = output.data.max(1, keepdim=True)[1]\n",
    "          correct += pred.eq(target.data.view_as(pred)).cpu().sum()\n",
    "\n",
    "      test_loss /= len(test_loader.dataset)\n",
    "      print('\\nTest set: Average loss: {:.4f}, Accuracy: {}/{} ({:.1f}%)\\n'.format(\n",
    "          test_loss, correct, len(test_loader.dataset),\n",
    "          100. * correct / len(test_loader.dataset)))\n",
    "      return correct / float(len(test_loader.dataset))\n",
    "\n",
    "best_prec1 = 0.\n",
    "train_acc_list = []\n",
    "for epoch in range(START_EPOCH, EPOCHS):\n",
    "    # Learning Rate在0.5EPOCHS與0.75EPOCHS調整為原本1/10\n",
    "    if epoch in [EPOCHS*0.5, EPOCHS*0.75]:\n",
    "        for param_group in optimizer.param_groups:\n",
    "            param_group['lr'] *= 0.1\n",
    "    train_acc = train(epoch, LAMBDA)\n",
    "    train_acc_list.append(train_acc)\n",
    "    prec1 = test()\n",
    "\n",
    "    # 儲存模型權重，方便做後續剪枝,後續訓練\n",
    "    os.makedirs(os.path.dirname(WEIGHT_PATH), exist_ok=True)\n",
    "    if(prec1 > best_prec1):\n",
    "        torch.save({\n",
    "            'epoch': epoch + 1,\n",
    "            'state_dict': model.state_dict(),\n",
    "            'best_prec1': best_prec1,\n",
    "            'optimizer': optimizer.state_dict(),\n",
    "        }, WEIGHT_PATH)\n",
    "\n",
    "    best_prec1 = max(prec1, best_prec1)\n"
   ]
  },
  {
   "cell_type": "markdown",
   "metadata": {
    "id": "pPoQuFgx3mD9"
   },
   "source": [
    "## 繪製Sparsity-Training結果圖"
   ]
  },
  {
   "cell_type": "code",
   "execution_count": null,
   "metadata": {},
   "outputs": [],
   "source": [
    "#繪製 Sparsity-Training 結果圖\n",
    "import matplotlib.pyplot as plt\n",
    "\n",
    "def plot_train_acc(train_acc_list, title='Accuracy v.s. Epoch', filename=None):\n",
    "    plt.plot(range(1, EPOCHS+1), train_acc_list)\n",
    "    plt.xlabel('Epoch')\n",
    "    plt.ylabel('Accuracy')\n",
    "    plt.title(title)\n",
    "    if filename:\n",
    "        os.makedirs(os.path.dirname(filename), exist_ok=True)\n",
    "        plt.savefig(filename)\n",
    "    plt.show()"
   ]
  },
  {
   "cell_type": "code",
   "execution_count": null,
   "metadata": {
    "id": "x7O2cE4q52A-"
   },
   "outputs": [
    {
     "data": {
      "image/png": "[encoded data removed]",
      "text/plain": [
       "<Figure size 640x480 with 1 Axes>"
      ]
     },
     "metadata": {},
     "output_type": "display_data"
    }
   ],
   "source": [
    "plot_train_acc(train_acc_list, 'Sparsity-Training Accuracy ($\\lambda = 0$)', 'images/sparse_train_acc_0.png')"
   ]
  },
  {
   "cell_type": "code",
   "execution_count": 11,
   "metadata": {},
   "outputs": [
    {
     "data": {
      "image/png": "[encoded data removed]",
      "text/plain": [
       "<Figure size 640x480 with 1 Axes>"
      ]
     },
     "metadata": {},
     "output_type": "display_data"
    },
    {
     "data": {
      "text/plain": [
       "<Figure size 640x480 with 0 Axes>"
      ]
     },
     "metadata": {},
     "output_type": "display_data"
    }
   ],
   "source": [
    "plot_train_acc(train_acc_list, 'Sparsity-Training Accuracy ($\\lambda = 10^{-5}$)', 'images/sparse_train_acc_1.png')"
   ]
  },
  {
   "cell_type": "code",
   "execution_count": 10,
   "metadata": {},
   "outputs": [
    {
     "data": {
      "image/png": "[encoded data removed]",
      "text/plain": [
       "<Figure size 640x480 with 1 Axes>"
      ]
     },
     "metadata": {},
     "output_type": "display_data"
    },
    {
     "data": {
      "text/plain": [
       "<Figure size 640x480 with 0 Axes>"
      ]
     },
     "metadata": {},
     "output_type": "display_data"
    }
   ],
   "source": [
    "plot_train_acc(train_acc_list, 'Sparsity-Training Accuracy ($\\lambda = 10^{-4}$)', 'images/sparse_train_acc_2.png')"
   ]
  },
  {
   "cell_type": "markdown",
   "metadata": {
    "id": "nw_CWhNSC7wT"
   },
   "source": [
    "## 繪製scaling factor 分布圖"
   ]
  },
  {
   "cell_type": "code",
   "execution_count": null,
   "metadata": {},
   "outputs": [],
   "source": [
    "#繪製 scaling factor 分布圖\n",
    "import matplotlib.pyplot as plt\n",
    "\n",
    "def plot_scaling_factor(model, title='Distribution of BatchNorm Scaling Factor', filename=None):\n",
    "    BN_weights = []\n",
    "    for m in model.modules():\n",
    "        if isinstance(m, nn.BatchNorm2d):\n",
    "            BN_weights += list(m.weight.data.cpu().numpy())\n",
    "    plt.hist(BN_weights, bins=50)\n",
    "    plt.xlabel('Value')\n",
    "    plt.ylabel('Count')\n",
    "    plt.title(title)\n",
    "    if filename:\n",
    "        os.makedirs(os.path.dirname(filename), exist_ok=True)\n",
    "        plt.savefig(filename)\n",
    "    plt.show()"
   ]
  },
  {
   "cell_type": "code",
   "execution_count": null,
   "metadata": {
    "id": "ohSv3VlZCyuM"
   },
   "outputs": [
    {
     "data": {
      "image/png": "[encoded data removed]",
      "text/plain": [
       "<Figure size 640x480 with 1 Axes>"
      ]
     },
     "metadata": {},
     "output_type": "display_data"
    }
   ],
   "source": [
    "plot_scaling_factor(model, 'Distribution of BatchNorm Scaling Factor ($\\lambda = 0$)', 'images/bn_scale_dist_0.png')"
   ]
  },
  {
   "cell_type": "code",
   "execution_count": 13,
   "metadata": {},
   "outputs": [
    {
     "data": {
      "image/png": "[encoded data removed]",
      "text/plain": [
       "<Figure size 640x480 with 1 Axes>"
      ]
     },
     "metadata": {},
     "output_type": "display_data"
    },
    {
     "data": {
      "text/plain": [
       "<Figure size 640x480 with 0 Axes>"
      ]
     },
     "metadata": {},
     "output_type": "display_data"
    }
   ],
   "source": [
    "plot_scaling_factor(model, 'Distribution of BatchNorm Scaling Factor ($\\lambda = 10^{-5}$)', 'images/bn_scale_dist_1.png')"
   ]
  },
  {
   "cell_type": "code",
   "execution_count": 12,
   "metadata": {},
   "outputs": [
    {
     "data": {
      "image/png": "[encoded data removed]",
      "text/plain": [
       "<Figure size 640x480 with 1 Axes>"
      ]
     },
     "metadata": {},
     "output_type": "display_data"
    },
    {
     "data": {
      "text/plain": [
       "<Figure size 640x480 with 0 Axes>"
      ]
     },
     "metadata": {},
     "output_type": "display_data"
    }
   ],
   "source": [
    "plot_scaling_factor(model, 'Distribution of BatchNorm Scaling Factor ($\\lambda = 10^{-4}$)', 'images/bn_scale_dist_2.png')"
   ]
  }
 ],
 "metadata": {
  "accelerator": "GPU",
  "colab": {
   "provenance": []
  },
  "gpuClass": "standard",
  "kernelspec": {
   "display_name": "main",
   "language": "python",
   "name": "python3"
  },
  "language_info": {
   "codemirror_mode": {
    "name": "ipython",
    "version": 3
   },
   "file_extension": ".py",
   "mimetype": "text/x-python",
   "name": "python",
   "nbconvert_exporter": "python",
   "pygments_lexer": "ipython3",
   "version": "3.8.19"
  }
 },
 "nbformat": 4,
 "nbformat_minor": 0
}
