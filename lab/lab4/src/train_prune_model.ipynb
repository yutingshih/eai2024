{
 "cells": [
  {
   "cell_type": "markdown",
   "metadata": {
    "id": "U3at1mhslz9v"
   },
   "source": [
    "##掛載雲端硬碟\n"
   ]
  },
  {
   "cell_type": "code",
   "execution_count": null,
   "metadata": {
    "id": "ijtFdN9tl14V"
   },
   "outputs": [],
   "source": [
    "from google.colab import drive\n",
    "drive.mount('/content/drive')"
   ]
  },
  {
   "cell_type": "markdown",
   "metadata": {
    "id": "q5bhyRZrl4X2"
   },
   "source": [
    "##更改檔案所在路徑"
   ]
  },
  {
   "cell_type": "code",
   "execution_count": null,
   "metadata": {
    "id": "f2RXiD5Bl6a2"
   },
   "outputs": [],
   "source": [
    "# Change to your own folder !!!\n",
    "%cd /content/drive/MyDrive/Colab\\ Notebooks/EAI_Lab4_2023"
   ]
  },
  {
   "cell_type": "markdown",
   "metadata": {
    "id": "gSal5HL0lTHA"
   },
   "source": [
    "## Import library"
   ]
  },
  {
   "cell_type": "code",
   "execution_count": 1,
   "metadata": {
    "id": "6v2iM_kglWj-"
   },
   "outputs": [],
   "source": [
    "from __future__ import print_function\n",
    "import os\n",
    "import argparse\n",
    "\n",
    "import torch\n",
    "import torch.nn as nn\n",
    "import torch.nn.functional as F\n",
    "import torch.optim as optim\n",
    "from torchvision import datasets, transforms\n",
    "from torch.autograd import Variable\n",
    "\n",
    "from models import vgg"
   ]
  },
  {
   "cell_type": "markdown",
   "metadata": {
    "id": "yFgiQGL6mq6W"
   },
   "source": [
    "## 設定超參數"
   ]
  },
  {
   "cell_type": "code",
   "execution_count": 2,
   "metadata": {
    "id": "a8FQ-IsUmqtP"
   },
   "outputs": [],
   "source": [
    "TRAIN_BATCH_SIZE = 100\n",
    "TEST_BATCH_SIZE = 1000\n",
    "EPOCHS = 20\n",
    "LEARNING_RATE = 0.1\n",
    "MOMENTUM = 0.9\n",
    "WEIGHT_DECAY = 1e-4\n",
    "LOG_INTERVAL = 100\n",
    "CUDA = True\n",
    "SEED = 1\n",
    "\n",
    "RESUME = True\n",
    "START_EPOCH = 0\n",
    "\n",
    "# PRUNE_PATH = '/content/drive/MyDrive/Colab Notebooks/model_prune.pth'\n",
    "# PRUNE_FINETUNE_PATH = '/content/drive/MyDrive/Colab Notebooks/model_prune_finetune.pth'\n",
    "PRUNE_PATH = 'weights/train2-prune90.pth'\n",
    "PRUNE_FINETUNE_PATH = 'weights/train2-prune90-tune.pth'\n"
   ]
  },
  {
   "cell_type": "markdown",
   "metadata": {
    "id": "Yk2vUEvtE8H3"
   },
   "source": [
    "####檢查是否檢查是否可使用GPU"
   ]
  },
  {
   "cell_type": "code",
   "execution_count": 3,
   "metadata": {
    "id": "_Sa1Tmnym3Pn"
   },
   "outputs": [],
   "source": [
    "if(torch.cuda.is_available()):\n",
    "    CUDA = True\n",
    "    kwargs = {'num_workers': 1, 'pin_memory': True}\n",
    "    torch.cuda.manual_seed(SEED)\n",
    "else:\n",
    "    CUDA = False\n",
    "    kwargs = {}"
   ]
  },
  {
   "cell_type": "markdown",
   "metadata": {
    "id": "fylf4FTlm7QX"
   },
   "source": [
    "##下載資料集\n"
   ]
  },
  {
   "cell_type": "markdown",
   "metadata": {
    "id": "erS9S_76nUsG"
   },
   "source": [
    "這裡將訓練集做Augmentation(Pad, RandCrop, Random)，測試集不用做Augmentation"
   ]
  },
  {
   "cell_type": "code",
   "execution_count": 4,
   "metadata": {
    "id": "vBW21uIHm_C-"
   },
   "outputs": [
    {
     "name": "stdout",
     "output_type": "stream",
     "text": [
      "Files already downloaded and verified\n"
     ]
    }
   ],
   "source": [
    "#### DATASET ####\n",
    "train_loader = torch.utils.data.DataLoader(\n",
    "    datasets.CIFAR10('./data', train=True, download=True,\n",
    "                   transform=transforms.Compose([\n",
    "                       transforms.Pad(4),\n",
    "                       transforms.RandomCrop(32),\n",
    "                       transforms.RandomHorizontalFlip(),\n",
    "                       transforms.ToTensor(),\n",
    "                       transforms.Normalize((0.5, 0.5, 0.5), (0.5, 0.5, 0.5))\n",
    "                   ])),\n",
    "    batch_size=TRAIN_BATCH_SIZE, shuffle=True, **kwargs)\n",
    "test_loader = torch.utils.data.DataLoader(\n",
    "    datasets.CIFAR10('./data', train=False, transform=transforms.Compose([\n",
    "                       transforms.ToTensor(),\n",
    "                       transforms.Normalize((0.5, 0.5, 0.5), (0.5, 0.5, 0.5))\n",
    "                   ])),\n",
    "    batch_size=TEST_BATCH_SIZE, shuffle=True, **kwargs)"
   ]
  },
  {
   "cell_type": "markdown",
   "metadata": {
    "id": "Is49FKBbuRj2"
   },
   "source": [
    "## 載入剪枝後的網路與權重"
   ]
  },
  {
   "cell_type": "code",
   "execution_count": 5,
   "metadata": {
    "id": "SUbUcHN4uQ89"
   },
   "outputs": [
    {
     "name": "stdout",
     "output_type": "stream",
     "text": [
      "RESUME PRUNE MODEL\n"
     ]
    }
   ],
   "source": [
    "model = None\n",
    "if(RESUME):\n",
    "  checkpoint = torch.load(PRUNE_PATH)\n",
    "  model = vgg(cfg=checkpoint['cfg'])\n",
    "  model.load_state_dict(checkpoint['state_dict'])\n",
    "\n",
    "  print('RESUME PRUNE MODEL')\n",
    "\n",
    "if CUDA:\n",
    "    model.cuda()"
   ]
  },
  {
   "cell_type": "markdown",
   "metadata": {
    "id": "ZC8ECoKHu7iF"
   },
   "source": [
    "##設定Optimizer，這裡使用Stocastic Gradient Descent with"
   ]
  },
  {
   "cell_type": "code",
   "execution_count": 6,
   "metadata": {
    "id": "EQ-soeyWvGyM"
   },
   "outputs": [],
   "source": [
    "optimizer = optim.SGD(model.parameters(), lr=LEARNING_RATE, momentum=MOMENTUM, weight_decay=WEIGHT_DECAY)"
   ]
  },
  {
   "cell_type": "markdown",
   "metadata": {
    "id": "gR2UTh0iwbEF"
   },
   "source": [
    "## 定義訓練跟測試函數"
   ]
  },
  {
   "cell_type": "code",
   "execution_count": 7,
   "metadata": {
    "id": "hQcKuMDee46V"
   },
   "outputs": [
    {
     "name": "stdout",
     "output_type": "stream",
     "text": [
      "\n",
      "Train Epoch: 0 [0/50000 (0.0%)]\tLoss: 2.360154\n",
      "\n",
      "Train Epoch: 0 [10000/50000 (20.0%)]\tLoss: 1.511486\n",
      "\n",
      "Train Epoch: 0 [20000/50000 (40.0%)]\tLoss: 1.598118\n",
      "\n",
      "Train Epoch: 0 [30000/50000 (60.0%)]\tLoss: 1.688593\n",
      "\n",
      "Train Epoch: 0 [40000/50000 (80.0%)]\tLoss: 1.363418\n",
      "\n",
      "Test set: Average loss: 2.0293, Accuracy: 3015/10000 (30.1%)\n",
      "\n",
      "\n",
      "Train Epoch: 1 [0/50000 (0.0%)]\tLoss: 1.622391\n",
      "\n",
      "Train Epoch: 1 [10000/50000 (20.0%)]\tLoss: 1.477193\n",
      "\n",
      "Train Epoch: 1 [20000/50000 (40.0%)]\tLoss: 1.369028\n",
      "\n",
      "Train Epoch: 1 [30000/50000 (60.0%)]\tLoss: 1.326867\n",
      "\n",
      "Train Epoch: 1 [40000/50000 (80.0%)]\tLoss: 1.210471\n",
      "\n",
      "Test set: Average loss: 1.3016, Accuracy: 4501/10000 (45.0%)\n",
      "\n",
      "\n",
      "Train Epoch: 2 [0/50000 (0.0%)]\tLoss: 1.203032\n",
      "\n",
      "Train Epoch: 2 [10000/50000 (20.0%)]\tLoss: 1.444677\n",
      "\n",
      "Train Epoch: 2 [20000/50000 (40.0%)]\tLoss: 1.306128\n",
      "\n",
      "Train Epoch: 2 [30000/50000 (60.0%)]\tLoss: 1.191320\n",
      "\n",
      "Train Epoch: 2 [40000/50000 (80.0%)]\tLoss: 1.334057\n",
      "\n",
      "Test set: Average loss: 1.4506, Accuracy: 3675/10000 (36.8%)\n",
      "\n",
      "\n",
      "Train Epoch: 3 [0/50000 (0.0%)]\tLoss: 1.252789\n",
      "\n",
      "Train Epoch: 3 [10000/50000 (20.0%)]\tLoss: 1.251281\n",
      "\n",
      "Train Epoch: 3 [20000/50000 (40.0%)]\tLoss: 1.185316\n",
      "\n",
      "Train Epoch: 3 [30000/50000 (60.0%)]\tLoss: 1.092665\n",
      "\n",
      "Train Epoch: 3 [40000/50000 (80.0%)]\tLoss: 1.481844\n",
      "\n",
      "Test set: Average loss: 1.2633, Accuracy: 5390/10000 (53.9%)\n",
      "\n",
      "\n",
      "Train Epoch: 4 [0/50000 (0.0%)]\tLoss: 1.198486\n",
      "\n",
      "Train Epoch: 4 [10000/50000 (20.0%)]\tLoss: 1.283714\n",
      "\n",
      "Train Epoch: 4 [20000/50000 (40.0%)]\tLoss: 1.121345\n",
      "\n",
      "Train Epoch: 4 [30000/50000 (60.0%)]\tLoss: 1.078468\n",
      "\n",
      "Train Epoch: 4 [40000/50000 (80.0%)]\tLoss: 1.216053\n",
      "\n",
      "Test set: Average loss: 1.2969, Accuracy: 5349/10000 (53.5%)\n",
      "\n",
      "\n",
      "Train Epoch: 5 [0/50000 (0.0%)]\tLoss: 1.074416\n",
      "\n",
      "Train Epoch: 5 [10000/50000 (20.0%)]\tLoss: 1.161607\n",
      "\n",
      "Train Epoch: 5 [20000/50000 (40.0%)]\tLoss: 1.172886\n",
      "\n",
      "Train Epoch: 5 [30000/50000 (60.0%)]\tLoss: 1.364574\n",
      "\n",
      "Train Epoch: 5 [40000/50000 (80.0%)]\tLoss: 1.434215\n",
      "\n",
      "Test set: Average loss: 1.3742, Accuracy: 5007/10000 (50.1%)\n",
      "\n",
      "\n",
      "Train Epoch: 6 [0/50000 (0.0%)]\tLoss: 1.026773\n",
      "\n",
      "Train Epoch: 6 [10000/50000 (20.0%)]\tLoss: 1.079505\n",
      "\n",
      "Train Epoch: 6 [20000/50000 (40.0%)]\tLoss: 1.154650\n",
      "\n",
      "Train Epoch: 6 [30000/50000 (60.0%)]\tLoss: 0.877230\n",
      "\n",
      "Train Epoch: 6 [40000/50000 (80.0%)]\tLoss: 0.843311\n",
      "\n",
      "Test set: Average loss: 0.9570, Accuracy: 6959/10000 (69.6%)\n",
      "\n",
      "\n",
      "Train Epoch: 7 [0/50000 (0.0%)]\tLoss: 0.881322\n",
      "\n",
      "Train Epoch: 7 [10000/50000 (20.0%)]\tLoss: 0.939739\n",
      "\n",
      "Train Epoch: 7 [20000/50000 (40.0%)]\tLoss: 0.559918\n",
      "\n",
      "Train Epoch: 7 [30000/50000 (60.0%)]\tLoss: 0.614339\n",
      "\n",
      "Train Epoch: 7 [40000/50000 (80.0%)]\tLoss: 0.962123\n",
      "\n",
      "Test set: Average loss: 0.7874, Accuracy: 7409/10000 (74.1%)\n",
      "\n",
      "\n",
      "Train Epoch: 8 [0/50000 (0.0%)]\tLoss: 0.675133\n",
      "\n",
      "Train Epoch: 8 [10000/50000 (20.0%)]\tLoss: 0.569561\n",
      "\n",
      "Train Epoch: 8 [20000/50000 (40.0%)]\tLoss: 0.491447\n",
      "\n",
      "Train Epoch: 8 [30000/50000 (60.0%)]\tLoss: 0.670188\n",
      "\n",
      "Train Epoch: 8 [40000/50000 (80.0%)]\tLoss: 0.649135\n",
      "\n",
      "Test set: Average loss: 1.1925, Accuracy: 6369/10000 (63.7%)\n",
      "\n",
      "\n",
      "Train Epoch: 9 [0/50000 (0.0%)]\tLoss: 0.680868\n",
      "\n",
      "Train Epoch: 9 [10000/50000 (20.0%)]\tLoss: 0.875649\n",
      "\n",
      "Train Epoch: 9 [20000/50000 (40.0%)]\tLoss: 0.760111\n",
      "\n",
      "Train Epoch: 9 [30000/50000 (60.0%)]\tLoss: 0.707306\n",
      "\n",
      "Train Epoch: 9 [40000/50000 (80.0%)]\tLoss: 0.683640\n",
      "\n",
      "Test set: Average loss: 1.0217, Accuracy: 7049/10000 (70.5%)\n",
      "\n",
      "\n",
      "Train Epoch: 10 [0/50000 (0.0%)]\tLoss: 0.544441\n",
      "\n",
      "Train Epoch: 10 [10000/50000 (20.0%)]\tLoss: 0.575142\n",
      "\n",
      "Train Epoch: 10 [20000/50000 (40.0%)]\tLoss: 0.436133\n",
      "\n",
      "Train Epoch: 10 [30000/50000 (60.0%)]\tLoss: 0.539863\n",
      "\n",
      "Train Epoch: 10 [40000/50000 (80.0%)]\tLoss: 0.420655\n",
      "\n",
      "Test set: Average loss: 0.5028, Accuracy: 8407/10000 (84.1%)\n",
      "\n",
      "\n",
      "Train Epoch: 11 [0/50000 (0.0%)]\tLoss: 0.463805\n",
      "\n",
      "Train Epoch: 11 [10000/50000 (20.0%)]\tLoss: 0.358500\n",
      "\n",
      "Train Epoch: 11 [20000/50000 (40.0%)]\tLoss: 0.631854\n",
      "\n",
      "Train Epoch: 11 [30000/50000 (60.0%)]\tLoss: 0.460457\n",
      "\n",
      "Train Epoch: 11 [40000/50000 (80.0%)]\tLoss: 0.442159\n",
      "\n",
      "Test set: Average loss: 0.4932, Accuracy: 8412/10000 (84.1%)\n",
      "\n",
      "\n",
      "Train Epoch: 12 [0/50000 (0.0%)]\tLoss: 0.437983\n",
      "\n",
      "Train Epoch: 12 [10000/50000 (20.0%)]\tLoss: 0.400669\n",
      "\n",
      "Train Epoch: 12 [20000/50000 (40.0%)]\tLoss: 0.523891\n",
      "\n",
      "Train Epoch: 12 [30000/50000 (60.0%)]\tLoss: 0.361795\n",
      "\n",
      "Train Epoch: 12 [40000/50000 (80.0%)]\tLoss: 0.588612\n",
      "\n",
      "Test set: Average loss: 0.4781, Accuracy: 8474/10000 (84.7%)\n",
      "\n",
      "\n",
      "Train Epoch: 13 [0/50000 (0.0%)]\tLoss: 0.518448\n",
      "\n",
      "Train Epoch: 13 [10000/50000 (20.0%)]\tLoss: 0.388363\n",
      "\n",
      "Train Epoch: 13 [20000/50000 (40.0%)]\tLoss: 0.432117\n",
      "\n",
      "Train Epoch: 13 [30000/50000 (60.0%)]\tLoss: 0.694204\n",
      "\n",
      "Train Epoch: 13 [40000/50000 (80.0%)]\tLoss: 0.427675\n",
      "\n",
      "Test set: Average loss: 0.4758, Accuracy: 8504/10000 (85.0%)\n",
      "\n",
      "\n",
      "Train Epoch: 14 [0/50000 (0.0%)]\tLoss: 0.341777\n",
      "\n",
      "Train Epoch: 14 [10000/50000 (20.0%)]\tLoss: 0.410691\n",
      "\n",
      "Train Epoch: 14 [20000/50000 (40.0%)]\tLoss: 0.166118\n",
      "\n",
      "Train Epoch: 14 [30000/50000 (60.0%)]\tLoss: 0.393365\n",
      "\n",
      "Train Epoch: 14 [40000/50000 (80.0%)]\tLoss: 0.348190\n",
      "\n",
      "Test set: Average loss: 0.4591, Accuracy: 8558/10000 (85.6%)\n",
      "\n",
      "\n",
      "Train Epoch: 15 [0/50000 (0.0%)]\tLoss: 0.451273\n",
      "\n",
      "Train Epoch: 15 [10000/50000 (20.0%)]\tLoss: 0.384050\n",
      "\n",
      "Train Epoch: 15 [20000/50000 (40.0%)]\tLoss: 0.439577\n",
      "\n",
      "Train Epoch: 15 [30000/50000 (60.0%)]\tLoss: 0.395791\n",
      "\n",
      "Train Epoch: 15 [40000/50000 (80.0%)]\tLoss: 0.239100\n",
      "\n",
      "Test set: Average loss: 0.4545, Accuracy: 8577/10000 (85.8%)\n",
      "\n",
      "\n",
      "Train Epoch: 16 [0/50000 (0.0%)]\tLoss: 0.362065\n",
      "\n",
      "Train Epoch: 16 [10000/50000 (20.0%)]\tLoss: 0.431387\n",
      "\n",
      "Train Epoch: 16 [20000/50000 (40.0%)]\tLoss: 0.371548\n",
      "\n",
      "Train Epoch: 16 [30000/50000 (60.0%)]\tLoss: 0.340617\n",
      "\n",
      "Train Epoch: 16 [40000/50000 (80.0%)]\tLoss: 0.227444\n",
      "\n",
      "Test set: Average loss: 0.4514, Accuracy: 8599/10000 (86.0%)\n",
      "\n",
      "\n",
      "Train Epoch: 17 [0/50000 (0.0%)]\tLoss: 0.242820\n",
      "\n",
      "Train Epoch: 17 [10000/50000 (20.0%)]\tLoss: 0.377181\n",
      "\n",
      "Train Epoch: 17 [20000/50000 (40.0%)]\tLoss: 0.352259\n",
      "\n",
      "Train Epoch: 17 [30000/50000 (60.0%)]\tLoss: 0.266076\n",
      "\n",
      "Train Epoch: 17 [40000/50000 (80.0%)]\tLoss: 0.237674\n",
      "\n",
      "Test set: Average loss: 0.4497, Accuracy: 8583/10000 (85.8%)\n",
      "\n",
      "\n",
      "Train Epoch: 18 [0/50000 (0.0%)]\tLoss: 0.276242\n",
      "\n",
      "Train Epoch: 18 [10000/50000 (20.0%)]\tLoss: 0.257369\n",
      "\n",
      "Train Epoch: 18 [20000/50000 (40.0%)]\tLoss: 0.455844\n",
      "\n",
      "Train Epoch: 18 [30000/50000 (60.0%)]\tLoss: 0.480204\n",
      "\n",
      "Train Epoch: 18 [40000/50000 (80.0%)]\tLoss: 0.309584\n",
      "\n",
      "Test set: Average loss: 0.4503, Accuracy: 8608/10000 (86.1%)\n",
      "\n",
      "\n",
      "Train Epoch: 19 [0/50000 (0.0%)]\tLoss: 0.332188\n",
      "\n",
      "Train Epoch: 19 [10000/50000 (20.0%)]\tLoss: 0.347600\n",
      "\n",
      "Train Epoch: 19 [20000/50000 (40.0%)]\tLoss: 0.556907\n",
      "\n",
      "Train Epoch: 19 [30000/50000 (60.0%)]\tLoss: 0.397604\n",
      "\n",
      "Train Epoch: 19 [40000/50000 (80.0%)]\tLoss: 0.312696\n",
      "\n",
      "Test set: Average loss: 0.4542, Accuracy: 8590/10000 (85.9%)\n",
      "\n",
      "\n",
      " TRAIN PRUNED MODEL DONE!\n"
     ]
    }
   ],
   "source": [
    "#### 訓練函數 #####\n",
    "\n",
    "# 注意: 需自行撰寫儲存每個epoch之train acc的code，以便後續繪製train acc結果圖!\n",
    "def train(epoch):\n",
    "    model.train()\n",
    "    total, correct = 0, 0\n",
    "\n",
    "    for batch_idx, (data, target) in enumerate(train_loader):\n",
    "        if CUDA:\n",
    "            data, target = data.cuda(), target.cuda()\n",
    "        data, target = Variable(data), Variable(target)\n",
    "        optimizer.zero_grad()\n",
    "        output = model(data)\n",
    "        loss = F.cross_entropy(output, target)\n",
    "        loss.backward()\n",
    "        optimizer.step()\n",
    "\n",
    "        total += len(data)\n",
    "        correct += (output.max(1)[1].view(target.size()) == target).sum().item()\n",
    "\n",
    "        if batch_idx % LOG_INTERVAL == 0:\n",
    "            print('\\nTrain Epoch: {} [{}/{} ({:.1f}%)]\\tLoss: {:.6f}'.format(\n",
    "                epoch, batch_idx * len(data), len(train_loader.dataset),\n",
    "                100. * batch_idx / len(train_loader), loss.data.item()))\n",
    "\n",
    "    train_acc = correct / total\n",
    "    return train_acc\n",
    "\n",
    "\n",
    "#### 測試函數 ####\n",
    "def test():\n",
    "    model.eval()\n",
    "    test_loss = 0\n",
    "    correct = 0\n",
    "\n",
    "    with torch.no_grad():\n",
    "      for data, target in test_loader:\n",
    "          if CUDA:\n",
    "              data, target = data.cuda(), target.cuda()\n",
    "          data, target = Variable(data), Variable(target)\n",
    "          output = model(data)\n",
    "          test_loss += F.cross_entropy(output, target, reduction='sum').data.item()\n",
    "          pred = output.data.max(1, keepdim=True)[1]\n",
    "          correct += pred.eq(target.data.view_as(pred)).cpu().sum()\n",
    "\n",
    "      test_loss /= len(test_loader.dataset)\n",
    "      print('\\nTest set: Average loss: {:.4f}, Accuracy: {}/{} ({:.1f}%)\\n'.format(\n",
    "          test_loss, correct, len(test_loader.dataset),\n",
    "          100. * correct / len(test_loader.dataset)))\n",
    "      return correct / float(len(test_loader.dataset))\n",
    "\n",
    "best_prec1 = 0.\n",
    "train_acc_list = []\n",
    "for epoch in range(START_EPOCH, EPOCHS):\n",
    "    # Learning Rate在0.5EPOCHS與0.75EPOCHS調整為原本之十分之一\n",
    "    if epoch in [EPOCHS*0.5, EPOCHS*0.75]:\n",
    "        for param_group in optimizer.param_groups:\n",
    "            param_group['lr'] *= 0.1\n",
    "    train_acc =   train(epoch)\n",
    "    train_acc_list.append(train_acc)\n",
    "    prec1 = test()\n",
    "\n",
    "    # 儲存模型權重，方便做後續剪枝,後續訓練\n",
    "    os.makedirs(os.path.dirname(PRUNE_FINETUNE_PATH), exist_ok=True)\n",
    "    if(prec1 > best_prec1):\n",
    "        torch.save({\n",
    "            'epoch': epoch + 1,\n",
    "            'state_dict': model.state_dict(),\n",
    "            'best_prec1': best_prec1,\n",
    "            'optimizer': optimizer.state_dict(),\n",
    "        }, PRUNE_FINETUNE_PATH)\n",
    "\n",
    "    best_prec1 = max(prec1, best_prec1)\n",
    "\n",
    "print('\\n TRAIN PRUNED MODEL DONE!')\n"
   ]
  },
  {
   "cell_type": "markdown",
   "metadata": {
    "id": "8I1zyyqmNtQk"
   },
   "source": [
    "## 繪製Fine-tuning結果圖\n"
   ]
  },
  {
   "cell_type": "code",
   "execution_count": 8,
   "metadata": {
    "id": "WH1VaayxN1Qj"
   },
   "outputs": [],
   "source": [
    "#繪製Fine-tuning結果圖\n",
    "import matplotlib.pyplot as plt\n",
    "\n",
    "def plot_acc(train_acc_list, title='Accuracy v.s. Epoch', filename=None):\n",
    "    plt.plot(range(1, EPOCHS+1), train_acc_list)\n",
    "    plt.xlabel('Epoch')\n",
    "    plt.ylabel('Accuracy')\n",
    "    plt.title(title)\n",
    "    if filename:\n",
    "        os.makedirs(os.path.dirname(filename), exist_ok=True)\n",
    "        plt.savefig(filename)\n",
    "    plt.show()"
   ]
  },
  {
   "cell_type": "code",
   "execution_count": 10,
   "metadata": {},
   "outputs": [
    {
     "data": {
      "image/png": "[encoded data removed]",
      "text/plain": [
       "<Figure size 640x480 with 1 Axes>"
      ]
     },
     "metadata": {},
     "output_type": "display_data"
    }
   ],
   "source": [
    "plot_acc(train_acc_list, title='Fine-tuning Accuracy ($\\lambda = 10^{-4}, prune \\ ratio = 0.9$)', filename='images/fine_tune_acc_90.png')"
   ]
  }
 ],
 "metadata": {
  "accelerator": "GPU",
  "colab": {
   "provenance": []
  },
  "gpuClass": "standard",
  "kernelspec": {
   "display_name": "main",
   "language": "python",
   "name": "python3"
  },
  "language_info": {
   "codemirror_mode": {
    "name": "ipython",
    "version": 3
   },
   "file_extension": ".py",
   "mimetype": "text/x-python",
   "name": "python",
   "nbconvert_exporter": "python",
   "pygments_lexer": "ipython3",
   "version": "3.8.19"
  }
 },
 "nbformat": 4,
 "nbformat_minor": 0
}
