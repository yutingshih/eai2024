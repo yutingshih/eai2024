{
  "cells": [
    {
      "cell_type": "code",
      "execution_count": 1,
      "metadata": {},
      "outputs": [],
      "source": [
        "!pip install -q torch torchvision matplotlib\n",
        "!pip install -q thop torchsummary"
      ]
    },
    {
      "cell_type": "code",
      "execution_count": 2,
      "metadata": {
        "id": "uTY8C-LBhDTX"
      },
      "outputs": [],
      "source": [
        "import os\n",
        "\n",
        "import matplotlib.pyplot as plt\n",
        "import numpy as np\n",
        "import torch\n",
        "import torch.nn as nn\n",
        "import torch.optim as optim\n",
        "# from torch.utils.tensorboard import SummaryWriter\n",
        "from torchvision import datasets, transforms\n",
        "\n",
        "from common import *"
      ]
    },
    {
      "cell_type": "code",
      "execution_count": 3,
      "metadata": {
        "id": "io7k6zHGb1OJ"
      },
      "outputs": [],
      "source": [
        "# Create SummaryWriter\n",
        "# writer = SummaryWriter(\"../tensorboard\")"
      ]
    },
    {
      "cell_type": "code",
      "execution_count": 4,
      "metadata": {
        "colab": {
          "base_uri": "https://localhost:8080/"
        },
        "id": "oqc_D_uEhc1O",
        "outputId": "405247ef-13b5-4387-812c-4fe077f7385e"
      },
      "outputs": [
        {
          "name": "stdout",
          "output_type": "stream",
          "text": [
            "True\n"
          ]
        }
      ],
      "source": [
        "# Hyperparameters\n",
        "BATCH_SIZE = 128\n",
        "EPOCH = 80\n",
        "LR = 1e-3\n",
        "DEVICE = torch.device(\"cuda\" if torch.cuda.is_available() else \"cpu\")\n",
        "print(torch.cuda.is_available())"
      ]
    },
    {
      "cell_type": "code",
      "execution_count": 5,
      "metadata": {
        "colab": {
          "base_uri": "https://localhost:8080/"
        },
        "collapsed": true,
        "id": "3LzusjVfhxJ3",
        "outputId": "39c997cf-4bdb-4fe3-b360-a561c25be2a6"
      },
      "outputs": [
        {
          "name": "stdout",
          "output_type": "stream",
          "text": [
            "Files already downloaded and verified\n",
            "Files already downloaded and verified\n",
            "[0.4907277  0.48154452 0.44603667] [0.24783434 0.24407786 0.26223877]\n",
            "[0.4907277  0.48154452 0.44603667] [0.24783434 0.24407786 0.26223877]\n"
          ]
        }
      ],
      "source": [
        "# 計算normalization需要的mean & std\n",
        "def get_mean_std(dataset, ratio=0.3):\n",
        "    # Get mean and std by sample ratio\n",
        "    dataloader = DataLoader(dataset, batch_size=int(len(dataset)*ratio), shuffle=True, num_workers=2)\n",
        "\n",
        "    data = next(iter(dataloader))[0]     # get the first iteration data\n",
        "    mean = np.mean(data.numpy(), axis=(0,2,3))\n",
        "    std = np.std(data.numpy(), axis=(0,2,3))\n",
        "    return mean, std\n",
        "\n",
        "train_dataset = datasets.CIFAR10(root='./data', train=True, download=True, transform=transforms.ToTensor())\n",
        "test_dataset = datasets.CIFAR10(root='./data', train=False, download=True, transform=transforms.ToTensor())\n",
        "\n",
        "train_mean, train_std = get_mean_std(train_dataset)\n",
        "test_mean, test_std = train_mean, train_std\n",
        "print(train_mean, train_std)\n",
        "print(test_mean, test_std)"
      ]
    },
    {
      "cell_type": "code",
      "execution_count": 6,
      "metadata": {
        "id": "5NGnL4rP6ofO"
      },
      "outputs": [],
      "source": [
        "##### data augmentation & normalization #####\n",
        "transform_train = transforms.Compose([\n",
        "    transforms.ToTensor(),\n",
        "\n",
        "    # data augmentation\n",
        "    transforms.RandomCrop(32, padding=4),\n",
        "    transforms.RandomHorizontalFlip(),\n",
        "    transforms.RandomRotation(15),\n",
        "\n",
        "    # data normalization    # standardization: (image - train_mean) / train_std\n",
        "    transforms.Normalize(mean=train_mean, std=train_std),\n",
        "])\n",
        "\n",
        "transform_test = transforms.Compose([\n",
        "    transforms.ToTensor(),\n",
        "    # data normalization    # standardization: (image - train_mean) / train_std\n",
        "    transforms.Normalize(mean=test_mean, std=test_std),\n",
        "])"
      ]
    },
    {
      "cell_type": "code",
      "execution_count": 7,
      "metadata": {
        "colab": {
          "base_uri": "https://localhost:8080/"
        },
        "id": "oaJyYUXj6rNW",
        "outputId": "fbe1ea3b-af22-425a-af4e-7bb94d9dffa7"
      },
      "outputs": [
        {
          "name": "stdout",
          "output_type": "stream",
          "text": [
            "Files already downloaded and verified\n",
            "Files already downloaded and verified\n",
            "Files already downloaded and verified\n",
            "Files already downloaded and verified\n",
            "train length:  45000\n",
            "val length:  5000\n",
            "test length:  10000\n"
          ]
        }
      ],
      "source": [
        "# classes = ('plane', 'car', 'bird', 'cat', 'deer', 'dog', 'frog', 'horse', 'ship', 'truck')\n",
        "\n",
        "trainloader, valloader, testloader = get_cifar10_loaders(BATCH_SIZE, transform_train, transform_test)"
      ]
    },
    {
      "cell_type": "markdown",
      "metadata": {
        "id": "2ca0Y17ExC9h"
      },
      "source": [
        "# Task 1\n",
        "1. 搭建由{CNN,BN,ReLU}所組成的layer\n",
        "2. 用兩層layer搭配pooling layer 和 FC layer創建出model\n",
        "3. 進行訓練並分別繪製出train acc/train loss/val acc/ val loss 等圖"
      ]
    },
    {
      "cell_type": "code",
      "execution_count": 8,
      "metadata": {
        "id": "5mz0IKhEaoqA"
      },
      "outputs": [
        {
          "data": {
            "text/plain": [
              "SimpleCNN(\n",
              "  (layer1): Sequential(\n",
              "    (0): Conv2d(3, 32, kernel_size=(3, 3), stride=(1, 1), padding=same)\n",
              "    (1): BatchNorm2d(32, eps=1e-05, momentum=0.1, affine=True, track_running_stats=True)\n",
              "    (2): ReLU()\n",
              "    (3): MaxPool2d(kernel_size=2, stride=2, padding=0, dilation=1, ceil_mode=False)\n",
              "  )\n",
              "  (layer2): Sequential(\n",
              "    (0): Conv2d(32, 64, kernel_size=(3, 3), stride=(1, 1), padding=same)\n",
              "    (1): BatchNorm2d(64, eps=1e-05, momentum=0.1, affine=True, track_running_stats=True)\n",
              "    (2): ReLU()\n",
              "    (3): MaxPool2d(kernel_size=2, stride=2, padding=0, dilation=1, ceil_mode=False)\n",
              "  )\n",
              "  (layer3): Sequential(\n",
              "    (0): Conv2d(64, 128, kernel_size=(3, 3), stride=(1, 1), padding=same)\n",
              "    (1): BatchNorm2d(128, eps=1e-05, momentum=0.1, affine=True, track_running_stats=True)\n",
              "    (2): ReLU()\n",
              "    (3): MaxPool2d(kernel_size=2, stride=2, padding=0, dilation=1, ceil_mode=False)\n",
              "  )\n",
              "  (dropout): Dropout(p=0.5, inplace=False)\n",
              "  (fc): Linear(in_features=2048, out_features=10, bias=True)\n",
              ")"
            ]
          },
          "execution_count": 8,
          "metadata": {},
          "output_type": "execute_result"
        }
      ],
      "source": [
        "class SimpleCNN(nn.Module):\n",
        "    def __init__(self):\n",
        "        super(SimpleCNN, self).__init__()\n",
        "        self.layer1 = self.make_layer(3, 32)    # 3*32*32 -> 32*16*16\n",
        "        self.layer2 = self.make_layer(32, 64)   # 32*16*16 -> 64*8*8\n",
        "        self.layer3 = self.make_layer(64, 128)  # 64*8*8 -> 128*4*4\n",
        "        self.dropout = nn.Dropout()\n",
        "        self.fc = nn.Linear(128*4*4, 10)\n",
        "\n",
        "    def make_layer(self, in_channels, out_channels, kernel_size=3, stride=1, padding='same'):\n",
        "        return nn.Sequential(\n",
        "            nn.Conv2d(in_channels, out_channels, kernel_size=kernel_size, stride=stride, padding=padding),\n",
        "            nn.BatchNorm2d(num_features=out_channels),\n",
        "            nn.ReLU(),\n",
        "            nn.MaxPool2d(kernel_size=2, stride=2),\n",
        "        )\n",
        "\n",
        "    def forward(self, x):\n",
        "        x = self.layer1(x)\n",
        "        x = self.layer2(x)\n",
        "        x = self.layer3(x)\n",
        "        x = self.dropout(x)\n",
        "        x = self.fc(x.flatten(1))\n",
        "        return x\n",
        "\n",
        "model = SimpleCNN().train().to(DEVICE)\n",
        "model"
      ]
    },
    {
      "cell_type": "code",
      "execution_count": 9,
      "metadata": {
        "colab": {
          "base_uri": "https://localhost:8080/"
        },
        "id": "RtBIeTz0B1hS",
        "outputId": "651c343e-e0bb-4dca-9b08-d8e564c314a9"
      },
      "outputs": [
        {
          "name": "stdout",
          "output_type": "stream",
          "text": [
            "[INFO] Register count_convNd() for <class 'torch.nn.modules.conv.Conv2d'>.\n",
            "[INFO] Register count_normalization() for <class 'torch.nn.modules.batchnorm.BatchNorm2d'>.\n",
            "[INFO] Register zero_ops() for <class 'torch.nn.modules.activation.ReLU'>.\n",
            "[INFO] Register zero_ops() for <class 'torch.nn.modules.pooling.MaxPool2d'>.\n",
            "[INFO] Register zero_ops() for <class 'torch.nn.modules.container.Sequential'>.\n",
            "[INFO] Register zero_ops() for <class 'torch.nn.modules.dropout.Dropout'>.\n",
            "[INFO] Register count_linear() for <class 'torch.nn.modules.linear.Linear'>.\n",
            "FLOPs: 10571776.0\n",
            "Params: 114186.0\n",
            "----------------------------------------------------------------\n",
            "        Layer (type)               Output Shape         Param #\n",
            "================================================================\n",
            "            Conv2d-1           [-1, 32, 32, 32]             896\n",
            "       BatchNorm2d-2           [-1, 32, 32, 32]              64\n",
            "              ReLU-3           [-1, 32, 32, 32]               0\n",
            "         MaxPool2d-4           [-1, 32, 16, 16]               0\n",
            "            Conv2d-5           [-1, 64, 16, 16]          18,496\n",
            "       BatchNorm2d-6           [-1, 64, 16, 16]             128\n",
            "              ReLU-7           [-1, 64, 16, 16]               0\n",
            "         MaxPool2d-8             [-1, 64, 8, 8]               0\n",
            "            Conv2d-9            [-1, 128, 8, 8]          73,856\n",
            "      BatchNorm2d-10            [-1, 128, 8, 8]             256\n",
            "             ReLU-11            [-1, 128, 8, 8]               0\n",
            "        MaxPool2d-12            [-1, 128, 4, 4]               0\n",
            "          Dropout-13            [-1, 128, 4, 4]               0\n",
            "           Linear-14                   [-1, 10]          20,490\n",
            "================================================================\n",
            "Total params: 114,186\n",
            "Trainable params: 114,186\n",
            "Non-trainable params: 0\n",
            "----------------------------------------------------------------\n",
            "Input size (MB): 0.01\n",
            "Forward/backward pass size (MB): 1.44\n",
            "Params size (MB): 0.44\n",
            "Estimated Total Size (MB): 1.88\n",
            "----------------------------------------------------------------\n"
          ]
        }
      ],
      "source": [
        "show_model_info(model, input_size=(3, 32, 32))"
      ]
    },
    {
      "cell_type": "code",
      "execution_count": 10,
      "metadata": {
        "colab": {
          "base_uri": "https://localhost:8080/"
        },
        "id": "zlUYWNxvbTLV",
        "outputId": "97490f2f-37cb-455b-e5f6-7ab2e3dd35f0"
      },
      "outputs": [
        {
          "name": "stdout",
          "output_type": "stream",
          "text": [
            "Epoch 1/80 (lr=1.0e-03), train_loss: 1.661, val_loss: 1.475, train_acc: 0.398, val_acc: 0.482\n",
            "Model saved at /home/master_112/nn6124030/eai2024/lab/lab2/task1/simplecnn_128.pt (0.466937 MB)\n",
            "Epoch 2/80 (lr=1.0e-03), train_loss: 1.338, val_loss: 1.244, train_acc: 0.517, val_acc: 0.550\n",
            "Model saved at /home/master_112/nn6124030/eai2024/lab/lab2/task1/simplecnn_128.pt (0.466937 MB)\n",
            "Epoch 3/80 (lr=1.0e-03), train_loss: 1.203, val_loss: 1.132, train_acc: 0.571, val_acc: 0.593\n",
            "Model saved at /home/master_112/nn6124030/eai2024/lab/lab2/task1/simplecnn_128.pt (0.466937 MB)\n",
            "Epoch 4/80 (lr=1.0e-03), train_loss: 1.126, val_loss: 1.089, train_acc: 0.600, val_acc: 0.611\n",
            "Model saved at /home/master_112/nn6124030/eai2024/lab/lab2/task1/simplecnn_128.pt (0.466937 MB)\n",
            "Epoch 5/80 (lr=1.0e-03), train_loss: 1.072, val_loss: 1.030, train_acc: 0.620, val_acc: 0.636\n",
            "Model saved at /home/master_112/nn6124030/eai2024/lab/lab2/task1/simplecnn_128.pt (0.466937 MB)\n",
            "Epoch 6/80 (lr=1.0e-03), train_loss: 1.033, val_loss: 1.087, train_acc: 0.635, val_acc: 0.609\n",
            "Epoch 7/80 (lr=1.0e-03), train_loss: 0.992, val_loss: 0.994, train_acc: 0.649, val_acc: 0.646\n",
            "Model saved at /home/master_112/nn6124030/eai2024/lab/lab2/task1/simplecnn_128.pt (0.466937 MB)\n",
            "Epoch 8/80 (lr=1.0e-03), train_loss: 0.967, val_loss: 0.934, train_acc: 0.659, val_acc: 0.680\n",
            "Model saved at /home/master_112/nn6124030/eai2024/lab/lab2/task1/simplecnn_128.pt (0.466937 MB)\n",
            "Epoch 9/80 (lr=1.0e-03), train_loss: 0.932, val_loss: 0.959, train_acc: 0.672, val_acc: 0.667\n",
            "Epoch 10/80 (lr=1.0e-03), train_loss: 0.914, val_loss: 0.888, train_acc: 0.678, val_acc: 0.694\n",
            "Model saved at /home/master_112/nn6124030/eai2024/lab/lab2/task1/simplecnn_128.pt (0.466937 MB)\n",
            "Epoch 11/80 (lr=5.0e-04), train_loss: 0.861, val_loss: 0.851, train_acc: 0.700, val_acc: 0.701\n",
            "Model saved at /home/master_112/nn6124030/eai2024/lab/lab2/task1/simplecnn_128.pt (0.466937 MB)\n",
            "Epoch 12/80 (lr=5.0e-04), train_loss: 0.837, val_loss: 0.837, train_acc: 0.706, val_acc: 0.704\n",
            "Model saved at /home/master_112/nn6124030/eai2024/lab/lab2/task1/simplecnn_128.pt (0.466937 MB)\n",
            "Epoch 13/80 (lr=5.0e-04), train_loss: 0.829, val_loss: 0.791, train_acc: 0.708, val_acc: 0.721\n",
            "Model saved at /home/master_112/nn6124030/eai2024/lab/lab2/task1/simplecnn_128.pt (0.466937 MB)\n",
            "Epoch 14/80 (lr=5.0e-04), train_loss: 0.819, val_loss: 0.811, train_acc: 0.714, val_acc: 0.721\n",
            "Epoch 15/80 (lr=5.0e-04), train_loss: 0.813, val_loss: 0.777, train_acc: 0.714, val_acc: 0.728\n",
            "Model saved at /home/master_112/nn6124030/eai2024/lab/lab2/task1/simplecnn_128.pt (0.466937 MB)\n",
            "Epoch 16/80 (lr=5.0e-04), train_loss: 0.803, val_loss: 0.770, train_acc: 0.720, val_acc: 0.731\n",
            "Model saved at /home/master_112/nn6124030/eai2024/lab/lab2/task1/simplecnn_128.pt (0.466937 MB)\n",
            "Epoch 17/80 (lr=5.0e-04), train_loss: 0.795, val_loss: 0.776, train_acc: 0.722, val_acc: 0.726\n",
            "Epoch 18/80 (lr=5.0e-04), train_loss: 0.784, val_loss: 0.774, train_acc: 0.726, val_acc: 0.726\n",
            "Epoch 19/80 (lr=5.0e-04), train_loss: 0.780, val_loss: 0.783, train_acc: 0.725, val_acc: 0.729\n",
            "Epoch 20/80 (lr=5.0e-04), train_loss: 0.775, val_loss: 0.751, train_acc: 0.727, val_acc: 0.735\n",
            "Model saved at /home/master_112/nn6124030/eai2024/lab/lab2/task1/simplecnn_128.pt (0.466937 MB)\n",
            "Epoch 21/80 (lr=2.5e-04), train_loss: 0.747, val_loss: 0.740, train_acc: 0.739, val_acc: 0.748\n",
            "Model saved at /home/master_112/nn6124030/eai2024/lab/lab2/task1/simplecnn_128.pt (0.466937 MB)\n",
            "Epoch 22/80 (lr=2.5e-04), train_loss: 0.739, val_loss: 0.727, train_acc: 0.743, val_acc: 0.749\n",
            "Model saved at /home/master_112/nn6124030/eai2024/lab/lab2/task1/simplecnn_128.pt (0.466937 MB)\n",
            "Epoch 23/80 (lr=2.5e-04), train_loss: 0.730, val_loss: 0.703, train_acc: 0.745, val_acc: 0.756\n",
            "Model saved at /home/master_112/nn6124030/eai2024/lab/lab2/task1/simplecnn_128.pt (0.466937 MB)\n",
            "Epoch 24/80 (lr=2.5e-04), train_loss: 0.729, val_loss: 0.698, train_acc: 0.745, val_acc: 0.758\n",
            "Model saved at /home/master_112/nn6124030/eai2024/lab/lab2/task1/simplecnn_128.pt (0.466937 MB)\n",
            "Epoch 25/80 (lr=2.5e-04), train_loss: 0.723, val_loss: 0.699, train_acc: 0.748, val_acc: 0.756\n",
            "Epoch 26/80 (lr=2.5e-04), train_loss: 0.722, val_loss: 0.704, train_acc: 0.747, val_acc: 0.755\n",
            "Epoch 27/80 (lr=2.5e-04), train_loss: 0.716, val_loss: 0.689, train_acc: 0.751, val_acc: 0.765\n",
            "Model saved at /home/master_112/nn6124030/eai2024/lab/lab2/task1/simplecnn_128.pt (0.466937 MB)\n",
            "Epoch 28/80 (lr=2.5e-04), train_loss: 0.711, val_loss: 0.691, train_acc: 0.752, val_acc: 0.765\n",
            "Model saved at /home/master_112/nn6124030/eai2024/lab/lab2/task1/simplecnn_128.pt (0.466937 MB)\n",
            "Epoch 29/80 (lr=2.5e-04), train_loss: 0.707, val_loss: 0.691, train_acc: 0.755, val_acc: 0.758\n",
            "Epoch 30/80 (lr=2.5e-04), train_loss: 0.708, val_loss: 0.681, train_acc: 0.752, val_acc: 0.762\n",
            "Epoch 31/80 (lr=1.3e-04), train_loss: 0.691, val_loss: 0.673, train_acc: 0.759, val_acc: 0.769\n",
            "Model saved at /home/master_112/nn6124030/eai2024/lab/lab2/task1/simplecnn_128.pt (0.466937 MB)\n",
            "Epoch 32/80 (lr=1.3e-04), train_loss: 0.683, val_loss: 0.663, train_acc: 0.760, val_acc: 0.771\n",
            "Model saved at /home/master_112/nn6124030/eai2024/lab/lab2/task1/simplecnn_128.pt (0.466937 MB)\n",
            "Epoch 33/80 (lr=1.3e-04), train_loss: 0.681, val_loss: 0.677, train_acc: 0.760, val_acc: 0.763\n",
            "Epoch 34/80 (lr=1.3e-04), train_loss: 0.684, val_loss: 0.654, train_acc: 0.762, val_acc: 0.767\n",
            "Epoch 35/80 (lr=1.3e-04), train_loss: 0.678, val_loss: 0.666, train_acc: 0.765, val_acc: 0.772\n",
            "Model saved at /home/master_112/nn6124030/eai2024/lab/lab2/task1/simplecnn_128.pt (0.466937 MB)\n",
            "Epoch 36/80 (lr=1.3e-04), train_loss: 0.679, val_loss: 0.651, train_acc: 0.761, val_acc: 0.772\n",
            "Epoch 37/80 (lr=1.3e-04), train_loss: 0.680, val_loss: 0.656, train_acc: 0.763, val_acc: 0.775\n",
            "Model saved at /home/master_112/nn6124030/eai2024/lab/lab2/task1/simplecnn_128.pt (0.466937 MB)\n",
            "Epoch 38/80 (lr=1.3e-04), train_loss: 0.672, val_loss: 0.651, train_acc: 0.764, val_acc: 0.776\n",
            "Model saved at /home/master_112/nn6124030/eai2024/lab/lab2/task1/simplecnn_128.pt (0.466937 MB)\n",
            "Epoch 39/80 (lr=1.3e-04), train_loss: 0.672, val_loss: 0.654, train_acc: 0.765, val_acc: 0.777\n",
            "Model saved at /home/master_112/nn6124030/eai2024/lab/lab2/task1/simplecnn_128.pt (0.466937 MB)\n",
            "Epoch 40/80 (lr=1.3e-04), train_loss: 0.676, val_loss: 0.650, train_acc: 0.765, val_acc: 0.777\n",
            "Model saved at /home/master_112/nn6124030/eai2024/lab/lab2/task1/simplecnn_128.pt (0.466937 MB)\n",
            "Epoch 41/80 (lr=6.3e-05), train_loss: 0.659, val_loss: 0.645, train_acc: 0.768, val_acc: 0.777\n",
            "Model saved at /home/master_112/nn6124030/eai2024/lab/lab2/task1/simplecnn_128.pt (0.466937 MB)\n",
            "Epoch 42/80 (lr=6.3e-05), train_loss: 0.663, val_loss: 0.640, train_acc: 0.770, val_acc: 0.782\n",
            "Model saved at /home/master_112/nn6124030/eai2024/lab/lab2/task1/simplecnn_128.pt (0.466937 MB)\n",
            "Epoch 43/80 (lr=6.3e-05), train_loss: 0.660, val_loss: 0.647, train_acc: 0.769, val_acc: 0.770\n",
            "Epoch 44/80 (lr=6.3e-05), train_loss: 0.662, val_loss: 0.646, train_acc: 0.767, val_acc: 0.778\n",
            "Epoch 45/80 (lr=6.3e-05), train_loss: 0.656, val_loss: 0.637, train_acc: 0.773, val_acc: 0.786\n",
            "Model saved at /home/master_112/nn6124030/eai2024/lab/lab2/task1/simplecnn_128.pt (0.466937 MB)\n",
            "Epoch 46/80 (lr=6.3e-05), train_loss: 0.659, val_loss: 0.638, train_acc: 0.771, val_acc: 0.778\n",
            "Epoch 47/80 (lr=6.3e-05), train_loss: 0.660, val_loss: 0.629, train_acc: 0.772, val_acc: 0.781\n",
            "Epoch 48/80 (lr=6.3e-05), train_loss: 0.652, val_loss: 0.644, train_acc: 0.772, val_acc: 0.776\n",
            "Epoch 49/80 (lr=6.3e-05), train_loss: 0.654, val_loss: 0.644, train_acc: 0.771, val_acc: 0.781\n",
            "Epoch 50/80 (lr=6.3e-05), train_loss: 0.651, val_loss: 0.645, train_acc: 0.772, val_acc: 0.782\n",
            "Epoch 51/80 (lr=3.1e-05), train_loss: 0.655, val_loss: 0.630, train_acc: 0.772, val_acc: 0.783\n",
            "Epoch 52/80 (lr=3.1e-05), train_loss: 0.652, val_loss: 0.637, train_acc: 0.774, val_acc: 0.780\n",
            "Epoch 53/80 (lr=3.1e-05), train_loss: 0.648, val_loss: 0.625, train_acc: 0.775, val_acc: 0.780\n",
            "Epoch 54/80 (lr=3.1e-05), train_loss: 0.648, val_loss: 0.630, train_acc: 0.774, val_acc: 0.777\n",
            "Epoch 55/80 (lr=3.1e-05), train_loss: 0.644, val_loss: 0.640, train_acc: 0.775, val_acc: 0.779\n",
            "Epoch 56/80 (lr=3.1e-05), train_loss: 0.645, val_loss: 0.626, train_acc: 0.775, val_acc: 0.782\n",
            "Epoch 57/80 (lr=3.1e-05), train_loss: 0.645, val_loss: 0.640, train_acc: 0.774, val_acc: 0.786\n",
            "Model saved at /home/master_112/nn6124030/eai2024/lab/lab2/task1/simplecnn_128.pt (0.466937 MB)\n",
            "Epoch 58/80 (lr=3.1e-05), train_loss: 0.648, val_loss: 0.637, train_acc: 0.773, val_acc: 0.781\n",
            "Epoch 59/80 (lr=3.1e-05), train_loss: 0.649, val_loss: 0.634, train_acc: 0.775, val_acc: 0.784\n",
            "Epoch 60/80 (lr=3.1e-05), train_loss: 0.644, val_loss: 0.631, train_acc: 0.777, val_acc: 0.781\n",
            "Epoch 61/80 (lr=1.6e-05), train_loss: 0.643, val_loss: 0.622, train_acc: 0.776, val_acc: 0.785\n",
            "Epoch 62/80 (lr=1.6e-05), train_loss: 0.636, val_loss: 0.625, train_acc: 0.779, val_acc: 0.791\n",
            "Model saved at /home/master_112/nn6124030/eai2024/lab/lab2/task1/simplecnn_128.pt (0.466937 MB)\n",
            "Epoch 63/80 (lr=1.6e-05), train_loss: 0.642, val_loss: 0.628, train_acc: 0.776, val_acc: 0.782\n",
            "Epoch 64/80 (lr=1.6e-05), train_loss: 0.648, val_loss: 0.627, train_acc: 0.773, val_acc: 0.782\n",
            "Epoch 65/80 (lr=1.6e-05), train_loss: 0.641, val_loss: 0.627, train_acc: 0.776, val_acc: 0.780\n",
            "Epoch 66/80 (lr=1.6e-05), train_loss: 0.643, val_loss: 0.629, train_acc: 0.775, val_acc: 0.781\n",
            "Epoch 67/80 (lr=1.6e-05), train_loss: 0.641, val_loss: 0.622, train_acc: 0.777, val_acc: 0.786\n",
            "Epoch 68/80 (lr=1.6e-05), train_loss: 0.637, val_loss: 0.634, train_acc: 0.778, val_acc: 0.785\n",
            "Epoch 69/80 (lr=1.6e-05), train_loss: 0.638, val_loss: 0.634, train_acc: 0.779, val_acc: 0.780\n",
            "Epoch 70/80 (lr=1.6e-05), train_loss: 0.639, val_loss: 0.636, train_acc: 0.777, val_acc: 0.781\n",
            "Epoch 71/80 (lr=7.8e-06), train_loss: 0.641, val_loss: 0.641, train_acc: 0.775, val_acc: 0.776\n",
            "Early stopping at 71 epoch\n"
          ]
        }
      ],
      "source": [
        "##### Train model #####\n",
        "criterion = nn.CrossEntropyLoss()\n",
        "optimizer = optim.Adam(model.parameters(), lr=LR, weight_decay=5e-4)\n",
        "scheduler = optim.lr_scheduler.StepLR(optimizer, step_size=10, gamma=0.5)\n",
        "\n",
        "best_model_path = f'./task1/simplecnn_{BATCH_SIZE}.pt'\n",
        "\n",
        "train_loss, train_acc, val_loss, val_acc = train(\n",
        "    model,\n",
        "    trainloader,\n",
        "    valloader,\n",
        "    epochs=EPOCH,\n",
        "    criterion=criterion,\n",
        "    optimizer=optimizer,\n",
        "    scheduler=scheduler,\n",
        "    save_path=best_model_path,\n",
        "    early_stop_patience=10,\n",
        "    existed='overwrite',\n",
        "    device=DEVICE,\n",
        ")"
      ]
    },
    {
      "cell_type": "code",
      "execution_count": 11,
      "metadata": {},
      "outputs": [],
      "source": [
        "def load_model(model, filename: str, verbose: bool = True) -> None:\n",
        "    state = torch.load(filename)\n",
        "    if \"total_ops\" in state:\n",
        "        state.pop(\"total_ops\")\n",
        "    if \"total_params\" in state:\n",
        "        state.pop(\"total_params\")\n",
        "    model.load_state_dict(state)\n",
        "    if verbose:\n",
        "        print(f\"Model loaded from {filename} ({os.path.getsize(filename) / 1e6} MB)\")"
      ]
    },
    {
      "cell_type": "code",
      "execution_count": 12,
      "metadata": {},
      "outputs": [
        {
          "name": "stdout",
          "output_type": "stream",
          "text": [
            "Model loaded from ./task1/simplecnn_128.pt (0.466937 MB)\n"
          ]
        },
        {
          "name": "stderr",
          "output_type": "stream",
          "text": [
            "/tmp/ipykernel_2817027/720588758.py:2: FutureWarning: You are using `torch.load` with `weights_only=False` (the current default value), which uses the default pickle module implicitly. It is possible to construct malicious pickle data which will execute arbitrary code during unpickling (See https://github.com/pytorch/pytorch/blob/main/SECURITY.md#untrusted-models for more details). In a future release, the default value for `weights_only` will be flipped to `True`. This limits the functions that could be executed during unpickling. Arbitrary objects will no longer be allowed to be loaded via this mode unless they are explicitly allowlisted by the user via `torch.serialization.add_safe_globals`. We recommend you start setting `weights_only=True` for any use case where you don't have full control of the loaded file. Please open an issue on GitHub for any issues related to this experimental feature.\n",
            "  state = torch.load(filename)\n"
          ]
        },
        {
          "name": "stdout",
          "output_type": "stream",
          "text": [
            "Test loss: 0.533, Test accuracy: 0.817\n"
          ]
        }
      ],
      "source": [
        "model = SimpleCNN().cuda()\n",
        "load_model(model, best_model_path)\n",
        "test_loss, test_acc = evaluate(model, testloader, criterion, device=DEVICE)\n",
        "print(f'Test loss: {test_loss:.3f}, Test accuracy: {test_acc:.3f}')"
      ]
    },
    {
      "cell_type": "code",
      "execution_count": 13,
      "metadata": {
        "colab": {
          "base_uri": "https://localhost:8080/",
          "height": 487
        },
        "id": "4iBgQV6Ev5Kp",
        "outputId": "1898aea5-7779-466b-e10b-589c7fc87856"
      },
      "outputs": [
        {
          "name": "stdout",
          "output_type": "stream",
          "text": [
            "Plot saved at /home/master_112/nn6124030/eai2024/lab/lab2/task1/loss_accuracy-1.png\n"
          ]
        },
        {
          "data": {
            "image/png": "[encoded data removed]",
            "text/plain": [
              "<Figure size 1200x600 with 2 Axes>"
            ]
          },
          "metadata": {},
          "output_type": "display_data"
        }
      ],
      "source": [
        "##### 繪製 loss 和 accuracy 的圖 #####\n",
        "plot_loss_accuracy(train_loss, train_acc, val_loss, val_acc, filename=\"./task1/loss_accuracy.png\")"
      ]
    }
  ],
  "metadata": {
    "accelerator": "GPU",
    "colab": {
      "provenance": []
    },
    "kernelspec": {
      "display_name": "eai",
      "language": "python",
      "name": "python3"
    },
    "language_info": {
      "codemirror_mode": {
        "name": "ipython",
        "version": 3
      },
      "file_extension": ".py",
      "mimetype": "text/x-python",
      "name": "python",
      "nbconvert_exporter": "python",
      "pygments_lexer": "ipython3",
      "version": "3.12.7"
    }
  },
  "nbformat": 4,
  "nbformat_minor": 0
}
