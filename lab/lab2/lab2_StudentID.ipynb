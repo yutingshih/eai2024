{
  "cells": [
    {
      "cell_type": "code",
      "execution_count": null,
      "metadata": {},
      "outputs": [],
      "source": [
        "!pip install thop\n",
        "!pip install torchsummary"
      ]
    },
    {
      "cell_type": "code",
      "execution_count": 2,
      "metadata": {
        "id": "uTY8C-LBhDTX"
      },
      "outputs": [],
      "source": [
        "import torch\n",
        "import torch.nn as nn\n",
        "import torch.nn.functional as F\n",
        "import torch.optim as optim\n",
        "import torchvision\n",
        "import torchvision.transforms as transforms\n",
        "import argparse\n",
        "import os\n",
        "import numpy as np\n",
        "from torch.utils.data import random_split\n",
        "from torch.utils.tensorboard import SummaryWriter\n"
      ]
    },
    {
      "cell_type": "code",
      "execution_count": 3,
      "metadata": {
        "id": "io7k6zHGb1OJ"
      },
      "outputs": [],
      "source": [
        "# Create SummaryWriter\n",
        "writer = SummaryWriter(\"../tensorboard\")"
      ]
    },
    {
      "cell_type": "code",
      "execution_count": 4,
      "metadata": {
        "colab": {
          "base_uri": "https://localhost:8080/"
        },
        "id": "oqc_D_uEhc1O",
        "outputId": "405247ef-13b5-4387-812c-4fe077f7385e"
      },
      "outputs": [
        {
          "name": "stdout",
          "output_type": "stream",
          "text": [
            "True\n"
          ]
        }
      ],
      "source": [
        "#檢查是否可用gpu\n",
        "print(torch.cuda.is_available())"
      ]
    },
    {
      "cell_type": "code",
      "execution_count": null,
      "metadata": {
        "colab": {
          "base_uri": "https://localhost:8080/"
        },
        "collapsed": true,
        "id": "3LzusjVfhxJ3",
        "outputId": "39c997cf-4bdb-4fe3-b360-a561c25be2a6"
      },
      "outputs": [],
      "source": [
        "# 計算normalization需要的mean & std\n",
        "def get_mean_std(dataset, ratio=0.3):\n",
        "    # Get mean and std by sample ratio\n",
        "    dataloader = torch.utils.data.DataLoader(dataset, batch_size=int(len(dataset)*ratio), shuffle=True, num_workers=2)\n",
        "\n",
        "    data = next(iter(dataloader))[0]     # get the first iteration data\n",
        "    mean = np.mean(data.numpy(), axis=(0,2,3))\n",
        "    std = np.std(data.numpy(), axis=(0,2,3))\n",
        "    return mean, std\n",
        "\n",
        "train_dataset = torchvision.datasets.CIFAR10(root='./data', train=True, download=True, transform=transforms.ToTensor())\n",
        "test_dataset = torchvision.datasets.CIFAR10(root='./data', train=False, download=True, transform=transforms.ToTensor())\n",
        "\n",
        "train_mean, train_std = get_mean_std(train_dataset)\n",
        "test_mean, test_std = train_mean, train_std\n",
        "print(train_mean, train_std)\n",
        "print(test_mean, test_std)"
      ]
    },
    {
      "cell_type": "code",
      "execution_count": 7,
      "metadata": {
        "id": "5NGnL4rP6ofO"
      },
      "outputs": [],
      "source": [
        "##### data augmentation & normalization #####\n",
        "transform_train = transforms.Compose([\n",
        "    transforms.ToTensor(),\n",
        "\n",
        "    # data augmentation \n",
        "    \n",
        "    # data normalization    # standardization: (image - train_mean) / train_std\n",
        "    transforms.Normalize(mean=train_mean, std=train_std),\n",
        "])\n",
        "\n",
        "transform_test = transforms.Compose([\n",
        "    transforms.ToTensor(),\n",
        "    # data normalization    # standardization: (image - train_mean) / train_std\n",
        "    transforms.Normalize(mean=test_mean, std=test_std),\n",
        "])"
      ]
    },
    {
      "cell_type": "code",
      "execution_count": null,
      "metadata": {
        "colab": {
          "base_uri": "https://localhost:8080/"
        },
        "id": "oaJyYUXj6rNW",
        "outputId": "fbe1ea3b-af22-425a-af4e-7bb94d9dffa7"
      },
      "outputs": [],
      "source": [
        "# dataset\n",
        "trainset = torchvision.datasets.CIFAR10(root='./data', train=True, download=True, transform=transform_train)\n",
        "test_ds = torchvision.datasets.CIFAR10(root='./data', train=False, download=True, transform=transform_test)\n",
        "\n",
        "# 檢查training dataset\n",
        "#print(\"trainset length: \", len(trainset))\n",
        "#print(\"classes: \", trainset.classes)\n",
        "image, label = trainset[0]\n",
        "print(\"image shape: \", image.shape)\n",
        "#print(\"label: \", label)\n",
        "\n",
        "# Cifar-10的標籤: ('plane', 'car', 'bird', 'cat', 'deer', 'dog', 'frog', 'horse', 'ship', 'truck')\n",
        "\n",
        "# split validation dataset\n",
        "torch.manual_seed(43)     # 確保每次獲得相同的驗證集\n",
        "val_size = 5000       # 取5000張驗證集(0.1 of trainset)\n",
        "train_size = len(trainset) - val_size\n",
        "train_ds, val_ds = random_split(trainset, [train_size, val_size])\n",
        "print(\"train length: \", len(train_ds))\n",
        "print(\"val length: \", len(val_ds))\n",
        "print(\"test length: \", len(test_ds))\n",
        "\n",
        "# 宣告 batch size\n",
        "BATCH_SIZE = \n",
        "trainloader = torch.utils.data.DataLoader(train_ds, batch_size=BATCH_SIZE, shuffle=True, num_workers=2)   \n",
        "valloader = torch.utils.data.DataLoader(val_ds, batch_size=BATCH_SIZE, shuffle=False, num_workers=2)\n",
        "testloader = torch.utils.data.DataLoader(test_ds, batch_size=BATCH_SIZE, shuffle=False, num_workers=2)"
      ]
    },
    {
      "cell_type": "markdown",
      "metadata": {
        "id": "2ca0Y17ExC9h"
      },
      "source": [
        "# Task 1\n",
        "1. 搭建由{CNN,BN,ReLU}所組成的layer\n",
        "2. 用兩層layer搭配pooling layer 和 FC layer創建出model\n",
        "3. 進行訓練並分別繪製出train acc/train loss/val acc/ val loss 等圖"
      ]
    },
    {
      "cell_type": "code",
      "execution_count": 9,
      "metadata": {
        "id": "5mz0IKhEaoqA"
      },
      "outputs": [],
      "source": [
        "import torch.nn.functional as F\n",
        "\n",
        "#####   create your own model  #####\n",
        "class SimpleCNN(nn.Module):\n",
        "    def __init__(self):\n",
        "        super(SimpleCNN, self).__init__()\n",
        "        \n",
        "\n",
        "\n",
        "    def forward(self, x):\n",
        "        \n",
        "# 宣告model\n",
        "model = "
      ]
    },
    {
      "cell_type": "code",
      "execution_count": null,
      "metadata": {
        "colab": {
          "base_uri": "https://localhost:8080/"
        },
        "id": "RtBIeTz0B1hS",
        "outputId": "651c343e-e0bb-4dca-9b08-d8e564c314a9"
      },
      "outputs": [],
      "source": [
        "\n",
        "from thop import profile\n",
        "from torchsummary import summary\n",
        "\n",
        "\n",
        "##### 使用 thop 計算 FLOPs 和參數數量 #####\n",
        "\n",
        "\n",
        "print(f\"FLOPs: {flops}\")\n",
        "print(f\"Params: {params}\")"
      ]
    },
    {
      "cell_type": "code",
      "execution_count": null,
      "metadata": {},
      "outputs": [],
      "source": [
        "##### setting parameter #####\n",
        "EPOCH = \n",
        "pre_epoch = \n",
        "lr = \n",
        "device = torch.device(\"cuda\")"
      ]
    },
    {
      "cell_type": "code",
      "execution_count": null,
      "metadata": {
        "colab": {
          "base_uri": "https://localhost:8080/"
        },
        "id": "zlUYWNxvbTLV",
        "outputId": "97490f2f-37cb-455b-e5f6-7ab2e3dd35f0"
      },
      "outputs": [],
      "source": [
        "  ##### Train model #####\n",
        "\n",
        "  # 初始化模型損失函數與優化器\n",
        "  criterion = nn.CrossEntropyLoss()\n",
        "  optimizer = \n",
        "  scheduler = \n",
        "\n",
        "  # 設定參數\n",
        "  best_model_path = 'best_model.pth'  # 模型保存路徑\n",
        "\n",
        "  # 用於記錄 loss 和 accuracy 的列表\n",
        "  train_losses = []\n",
        "  train_accuracies = []\n",
        "  \n",
        "\n",
        "  # 訓練模型\n",
        "  for epoch in range(pre_epoch, EPOCH):\n",
        "      model.train()\n",
        "      running_loss = 0.0\n",
        "      correct = 0\n",
        "      total = 0\n",
        "\n",
        "      for data in trainloader:\n",
        "          inputs, labels = data\n",
        "          inputs, labels = inputs.to(device), labels.to(device)\n",
        "\n",
        "          # 初始化梯度\n",
        "          optimizer.zero_grad()\n",
        "\n",
        "          # 前向傳播\n",
        "          outputs = model(inputs)\n",
        "          loss = criterion(outputs, labels)\n",
        "\n",
        "          # 反向傳播與優化\n",
        "          loss.backward()\n",
        "          optimizer.step()\n",
        "\n",
        "          # 累積損失\n",
        "          running_loss += loss.item()\n",
        "\n",
        "          # 計算訓練準確率\n",
        "          _, predicted = outputs.max(1)\n",
        "          total += labels.size(0)\n",
        "          correct += predicted.eq(labels).sum().item()\n",
        "\n",
        "      train_loss = running_loss / len(trainloader)\n",
        "      train_accuracy = 100. * correct / total\n",
        "\n",
        "      # 記錄訓練損失和準確率\n",
        "    \n",
        "\n",
        "\n",
        "      # 驗證模型\n",
        "       model.eval()\n",
        "\n",
        "    \n",
        "\n",
        "  print('Finished Training')\n",
        "\n",
        "  # load 你的best model再跑一次testloader\n",
        "  model.eval()\n"
      ]
    },
    {
      "cell_type": "code",
      "execution_count": null,
      "metadata": {
        "colab": {
          "base_uri": "https://localhost:8080/",
          "height": 487
        },
        "id": "4iBgQV6Ev5Kp",
        "outputId": "1898aea5-7779-466b-e10b-589c7fc87856"
      },
      "outputs": [],
      "source": [
        "import matplotlib.pyplot as plt\n",
        "\n",
        "##### 繪製 loss 和 accuracy 的圖 #####\n",
        "\n",
        "\n",
        "plt.show()"
      ]
    },
    {
      "cell_type": "markdown",
      "metadata": {
        "id": "q5SKIpQR17G6"
      },
      "source": [
        "# Task 2\n",
        "1. 完成resnet18.py並上傳\n",
        "2. 進行訓練並分別繪製出train acc/train loss/val acc/ val loss 等圖"
      ]
    },
    {
      "cell_type": "code",
      "execution_count": null,
      "metadata": {
        "colab": {
          "base_uri": "https://localhost:8080/"
        },
        "id": "01PkQnEDEquE",
        "outputId": "163e4328-e1ad-4381-c363-3f6b99aabc9a"
      },
      "outputs": [],
      "source": [
        "from thop import profile\n",
        "from resnet18 import *\n",
        "##### 使用 thop 計算 FLOPs 和參數數量 #####"
      ]
    },
    {
      "cell_type": "code",
      "execution_count": 15,
      "metadata": {},
      "outputs": [],
      "source": [
        "# setting parameter\n",
        "EPOCH = \n",
        "pre_epoch =\n",
        "lr = \n",
        "device = torch.device(\"cuda\")"
      ]
    },
    {
      "cell_type": "code",
      "execution_count": null,
      "metadata": {
        "colab": {
          "base_uri": "https://localhost:8080/"
        },
        "id": "WfBB9RKK6t8e",
        "outputId": "24f31cc4-7dc2-4f08-bde2-5ad6d4267fa0"
      },
      "outputs": [],
      "source": [
        "#引用resnet.18\n",
        "net = ResNet(ResBlock,[2, 2, 2, 2]).to(device)\n",
        "\n",
        "##### Train model #####"
      ]
    },
    {
      "cell_type": "markdown",
      "metadata": {
        "id": "P66rkS5W1slM"
      },
      "source": []
    },
    {
      "cell_type": "code",
      "execution_count": null,
      "metadata": {
        "id": "boGt8nkQBR5V"
      },
      "outputs": [],
      "source": [
        "##### 繪製 loss 和 accuracy 的圖 #####\n",
        "\n",
        "plt.show()"
      ]
    }
  ],
  "metadata": {
    "accelerator": "GPU",
    "colab": {
      "provenance": []
    },
    "kernelspec": {
      "display_name": "Python 3",
      "name": "python3"
    },
    "language_info": {
      "codemirror_mode": {
        "name": "ipython",
        "version": 3
      },
      "file_extension": ".py",
      "mimetype": "text/x-python",
      "name": "python",
      "nbconvert_exporter": "python",
      "pygments_lexer": "ipython3",
      "version": "3.10.9"
    }
  },
  "nbformat": 4,
  "nbformat_minor": 0
}
