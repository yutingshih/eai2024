{
  "cells": [
    {
      "cell_type": "markdown",
      "metadata": {},
      "source": [
        "# Lab 1 - Understand NN and Training Process"
      ]
    },
    {
      "cell_type": "markdown",
      "metadata": {
        "id": "rlmh1D8ia79e"
      },
      "source": [
        "## 1. Implement the following layers as Python functions (both forward and backward propagation)\n",
        "* Inner-product layer\n",
        "* Activation layer(Sigmoid or Rectified)\n",
        "* Softmax layer"
      ]
    },
    {
      "cell_type": "code",
      "execution_count": null,
      "metadata": {
        "id": "jgMAQNAnr_k1"
      },
      "outputs": [],
      "source": [
        "from google.colab import drive\n",
        "drive.mount('/content/drive')"
      ]
    },
    {
      "cell_type": "code",
      "execution_count": null,
      "metadata": {
        "id": "MUds0dh6WX0G"
      },
      "outputs": [],
      "source": [
        "%cd /content/drive/MyDrive/AI_Lab1"
      ]
    },
    {
      "cell_type": "code",
      "execution_count": 1,
      "metadata": {
        "id": "ukxBJ3dksMZ-"
      },
      "outputs": [],
      "source": [
        "import os\n",
        "from typing import Callable, Iterable\n",
        "\n",
        "\n",
        "import matplotlib.pyplot as plt\n",
        "import numpy as np\n",
        "from tqdm import tqdm"
      ]
    },
    {
      "cell_type": "code",
      "execution_count": 2,
      "metadata": {},
      "outputs": [],
      "source": [
        "class Parameter:\n",
        "    def __init__(self, data: np.ndarray) -> None:\n",
        "        self.data = data\n",
        "        self.grad = None\n",
        "\n",
        "\n",
        "class Module:\n",
        "    def __call__(self, *args, **kwargs) -> np.ndarray:\n",
        "        return self.forward(*args, **kwargs)\n",
        "\n",
        "    def __repr__(self) -> str:\n",
        "        layers = '\\n'.join([f'  ({k}): {v}' for k, v in self.__dict__.items()])\n",
        "        return f'{self.__class__.__name__}(\\n{layers}\\n)'"
      ]
    },
    {
      "cell_type": "code",
      "execution_count": 3,
      "metadata": {},
      "outputs": [],
      "source": [
        "class Linear(Module):\n",
        "    def __init__(self, in_features, out_features) -> None:\n",
        "        super().__init__()\n",
        "        self.in_features = in_features\n",
        "        self.out_features = out_features\n",
        "\n",
        "        # Initialize weights and biases\n",
        "        init_factor = 0.01\n",
        "        self.W = Parameter(np.random.randn(in_features, out_features) * init_factor)\n",
        "        self.b = Parameter(np.zeros((1, out_features)))\n",
        "\n",
        "        # Cache for backward pass\n",
        "        self.x = None\n",
        "\n",
        "    def forward(self, x):\n",
        "        self.x = x  # cache input for backward pass\n",
        "        return np.dot(x, self.W.data) + self.b.data\n",
        "\n",
        "    def backward(self, dy):\n",
        "        self.W.grad = np.dot(self.x.T, dy)\n",
        "        self.b.grad = np.sum(dy, axis=0, keepdims=True)  # sum over batch dimension\n",
        "        dx = np.dot(dy, self.W.data.T)\n",
        "        return dx\n",
        "\n",
        "    def parameters(self):\n",
        "        return self.W, self.b\n",
        "\n",
        "    def __repr__(self) -> str:\n",
        "        return f'{self.__class__.__name__}(in_features={self.in_features}, out_features={self.out_features})'\n",
        "\n",
        "\n",
        "class ReLU(Module):\n",
        "    def __init__(self) -> None:\n",
        "        super().__init__()\n",
        "        self.x = None\n",
        "\n",
        "    def forward(self, x):\n",
        "        self.x = x\n",
        "        return np.maximum(0, x)\n",
        "\n",
        "    def backward(self, dy):\n",
        "        dx = dy.copy()\n",
        "        dx[self.x < 0] = 0\n",
        "        return dx\n",
        "\n",
        "    def __repr__(self) -> str:\n",
        "        return f'{self.__class__.__name__}()'\n",
        "\n",
        "\n",
        "class Sigmoid(Module):\n",
        "    def __init__(self) -> None:\n",
        "        super().__init__()\n",
        "        self.y = None\n",
        "\n",
        "    def forward(self, x):\n",
        "        self.y = 1 / (1 + np.exp(-x))\n",
        "        return self.y\n",
        "\n",
        "    def backward(self, dy):\n",
        "        dx = dy * self.y * (1 - self.y)\n",
        "        return dx\n",
        "\n",
        "    def __repr__(self) -> str:\n",
        "        return f'{self.__class__.__name__}()'\n",
        "\n",
        "\n",
        "class Softmax(Module):\n",
        "    def __init__(self) -> None:\n",
        "        super().__init__()\n",
        "        self.y = None\n",
        "\n",
        "    def forward(self, x):\n",
        "        # subtract max for numerical stability\n",
        "        ex = np.exp(x - np.max(x, axis=-1, keepdims=True))\n",
        "        self.y = ex / np.sum(ex, axis=-1, keepdims=True)\n",
        "        return self.y\n",
        "\n",
        "    def backward(self, dy):\n",
        "        # Assume dy is coming from a cross-entropy loss\n",
        "        return dy\n",
        "\n",
        "    def __repr__(self) -> str:\n",
        "        return f'{self.__class__.__name__}()'"
      ]
    },
    {
      "cell_type": "code",
      "execution_count": 4,
      "metadata": {},
      "outputs": [],
      "source": [
        "class MLP(Module):\n",
        "    def __init__(self) -> None:\n",
        "        self.fc1 = Linear(784, 512)\n",
        "        self.relu1 = ReLU()\n",
        "        self.fc2 = Linear(512, 64)\n",
        "        self.relu2 = ReLU()\n",
        "        self.fc3 = Linear(64, 10)\n",
        "        self.softmax = Softmax()\n",
        "\n",
        "    def forward(self, x):\n",
        "        x = self.fc1(x)\n",
        "        x = self.relu1(x)\n",
        "        x = self.fc2(x)\n",
        "        x = self.relu2(x)\n",
        "        x = self.fc3(x)\n",
        "        x = self.softmax(x)\n",
        "        return x\n",
        "\n",
        "    def backward(self, dy):\n",
        "        dy = self.softmax.backward(dy)\n",
        "        dy = self.fc3.backward(dy)\n",
        "        dy = self.relu2.backward(dy)\n",
        "        dy = self.fc2.backward(dy)\n",
        "        dy = self.relu1.backward(dy)\n",
        "        dy = self.fc1.backward(dy)\n",
        "        return dy\n",
        "\n",
        "    def parameters(self):\n",
        "        return self.fc1.parameters() + self.fc2.parameters()"
      ]
    },
    {
      "cell_type": "markdown",
      "metadata": {},
      "source": [
        "## 2. Implement training and testing process\n",
        "* included cross-validation"
      ]
    },
    {
      "cell_type": "code",
      "execution_count": 5,
      "metadata": {},
      "outputs": [],
      "source": [
        "class MNIST:\n",
        "    def __init__(self, root='../data', train=True, transform: Callable = None) -> None:\n",
        "        path = os.path.join(root, 'mnist_train.csv' if train else 'mnist_test.csv')\n",
        "        self.data = np.loadtxt(path, delimiter=',')\n",
        "        self.transform = transform\n",
        "        self.image_size = 28\n",
        "        self.num_classes = 10\n",
        "        self.classes = np.arange(self.num_classes)\n",
        "\n",
        "    def __len__(self):\n",
        "        return len(self.data)\n",
        "\n",
        "    def __getitem__(self, idx):\n",
        "        label = (self.data[idx, 0] == self.classes).astype(\n",
        "            np.float32\n",
        "        )  # one-hot encoding\n",
        "        image = (\n",
        "            self.data[idx, 1:]\n",
        "            .reshape(self.image_size * self.image_size)\n",
        "            .astype(np.float32)\n",
        "        )\n",
        "        if self.transform:\n",
        "            image = self.transform(image)\n",
        "        return image, label\n",
        "\n",
        "\n",
        "class Subset:\n",
        "    def __init__(self, dataset, indices: Iterable) -> None:\n",
        "        self.dataset = dataset\n",
        "        self.indices = indices\n",
        "\n",
        "    def __len__(self):\n",
        "        return len(self.indices)\n",
        "\n",
        "    def __getitem__(self, idx):\n",
        "        return self.dataset[self.indices[idx]]\n",
        "\n",
        "\n",
        "class DataLoader:\n",
        "    def __init__(self, dataset, batch_size=1) -> None:\n",
        "        self.dataset = dataset\n",
        "        self.batch_size = batch_size\n",
        "        self.indices = np.arange(len(dataset))\n",
        "\n",
        "    def __len__(self):\n",
        "        return (len(self.dataset) + self.batch_size - 1) // self.batch_size\n",
        "\n",
        "    def __iter__(self):\n",
        "        for start_idx in range(0, len(self.dataset), self.batch_size):\n",
        "            end_idx = min(start_idx + self.batch_size, len(self.dataset))\n",
        "            batch_indices = self.indices[start_idx:end_idx]\n",
        "\n",
        "            batch_images = []\n",
        "            batch_labels = []\n",
        "\n",
        "            for idx in batch_indices:\n",
        "                image, label = self.dataset[idx]\n",
        "                batch_images.append(image)\n",
        "                batch_labels.append(label)\n",
        "\n",
        "            yield np.array(batch_images), np.array(batch_labels)"
      ]
    },
    {
      "cell_type": "code",
      "execution_count": 6,
      "metadata": {
        "id": "8yExx60TCWuq"
      },
      "outputs": [],
      "source": [
        "# Separate train_imgs, train_labels into training and validation\n",
        "def load_mnist_data(\n",
        "    root=\"../data\", batch_size=1, split_ratio=0.1, transform=None\n",
        ") -> tuple[DataLoader, DataLoader, DataLoader]:\n",
        "    def _split_dataset(dataset, split_ratio):\n",
        "        assert 0 < split_ratio < 1\n",
        "        num_train = int(len(dataset) * (1 - split_ratio))\n",
        "        indices = np.random.permutation(len(dataset))\n",
        "        train_indices = indices[:num_train]\n",
        "        valid_indices = indices[num_train:]\n",
        "        return Subset(dataset, train_indices), Subset(dataset, valid_indices)\n",
        "\n",
        "    trainset = MNIST(root=root, train=True, transform=transform)\n",
        "    testset = MNIST(root=root, train=False, transform=transform)\n",
        "    trainset, validset = _split_dataset(trainset, split_ratio=split_ratio)\n",
        "    trainldr = DataLoader(trainset, batch_size=batch_size)\n",
        "    validldr = DataLoader(validset, batch_size=batch_size)\n",
        "    testldr = DataLoader(testset, batch_size=batch_size)\n",
        "    return trainldr, validldr, testldr"
      ]
    },
    {
      "cell_type": "code",
      "execution_count": 7,
      "metadata": {},
      "outputs": [],
      "source": [
        "class CrossEntropyLoss(Module):\n",
        "    def __init__(self, epsilon=1e-15) -> None:\n",
        "        super().__init__()\n",
        "        self.epsilon = epsilon  # small value to avoid log(0)\n",
        "        self.y_pred = None\n",
        "        self.y_true = None\n",
        "\n",
        "    def forward(self, y_pred, y_true):\n",
        "        self.y_pred = np.clip(y_pred, self.epsilon, 1 - self.epsilon)\n",
        "        self.y_true = y_true\n",
        "        batch_size = y_true.shape[0]\n",
        "        loss = -np.sum(y_true * np.log(self.y_pred)) / batch_size\n",
        "        return loss\n",
        "\n",
        "    def backward(self):\n",
        "        batch_size = self.y_true.shape[0]\n",
        "        grad = self.y_pred - self.y_true / batch_size\n",
        "        return grad\n",
        "\n",
        "    def __repr__(self) -> str:\n",
        "        return f\"{self.__class__.__name__}()\"\n",
        "\n",
        "\n",
        "class SGD:\n",
        "    def __init__(self, params: Iterable, lr: float = 1e-3) -> None:\n",
        "        self.params = params\n",
        "        self.lr = lr\n",
        "\n",
        "    def step(self):\n",
        "        for param in self.params:\n",
        "            if param.grad is not None:\n",
        "                param.data -= self.lr * param.grad\n",
        "\n",
        "    def zero_grad(self):\n",
        "        for param in self.params:\n",
        "            if param.grad is not None:\n",
        "                param.grad.fill(0)"
      ]
    },
    {
      "cell_type": "code",
      "execution_count": 8,
      "metadata": {},
      "outputs": [],
      "source": [
        "def train_one_epoch(model: Module, trainldr: Iterable, criterion, optimizer) -> tuple[float, float]:\n",
        "    total = 0\n",
        "    correct = 0\n",
        "    total_loss = 0\n",
        "    for x, y in tqdm(trainldr):\n",
        "        # forward propagation\n",
        "        y_pred = model.forward(x)\n",
        "\n",
        "        # compute loss\n",
        "        loss = criterion.forward(y_pred, y)\n",
        "        total_loss += loss * len(y)\n",
        "\n",
        "        # compute accuracy\n",
        "        correct += y[0, np.argmax(y_pred)]\n",
        "        total += len(y)\n",
        "\n",
        "        # backward propagation\n",
        "        grad = criterion.backward()\n",
        "        model.backward(grad)\n",
        "\n",
        "        # update parameters\n",
        "        optimizer.step()\n",
        "        optimizer.zero_grad()\n",
        "\n",
        "    avg_loss = total_loss / total\n",
        "    accuracy = correct / total\n",
        "    return avg_loss, accuracy\n",
        "\n",
        "\n",
        "def evaluate(model: Module, testldr: Iterable) -> tuple[float, float]:\n",
        "    total = 0\n",
        "    correct = 0\n",
        "    total_loss = 0\n",
        "    criterion = CrossEntropyLoss()  # separate criterion from training\n",
        "    for x, y in tqdm(testldr):\n",
        "        # forward propagation\n",
        "        y_pred = model.forward(x)\n",
        "\n",
        "        # compute loss\n",
        "        loss = criterion(y_pred, y)\n",
        "        total_loss += loss * len(y)\n",
        "\n",
        "        # compute accuracy\n",
        "        correct += y[0, np.argmax(y_pred)]\n",
        "        total += len(y)\n",
        "\n",
        "    avg_loss = total_loss / total\n",
        "    accuracy = correct / total\n",
        "    return avg_loss, accuracy\n",
        "\n",
        "\n",
        "def train(model: MLP, trainldr: Iterable, validldr: Iterable, epochs=10, lr=1e-3):\n",
        "    criterion = CrossEntropyLoss()\n",
        "    optimizer = SGD(model.parameters(), lr=lr)\n",
        "    train_loss = []\n",
        "    train_acc = []\n",
        "    valid_loss = []\n",
        "    valid_acc = []\n",
        "\n",
        "    for epoch in range(epochs):\n",
        "        loss, acc = train_one_epoch(model, trainldr, criterion, optimizer)\n",
        "        train_loss.append(loss)\n",
        "        train_acc.append(acc)\n",
        "        print(f'epoch {epoch:d}: train_loss = {loss}, train_acc = {acc}')\n",
        "\n",
        "        loss, acc = evaluate(model, validldr)\n",
        "        valid_loss.append(loss)\n",
        "        valid_acc.append(acc)\n",
        "        print(f'epoch {epoch:d}: valid_loss = {loss}, valid_acc = {acc}\\n')\n",
        "\n",
        "    return train_loss, train_acc, valid_loss, valid_acc"
      ]
    },
    {
      "cell_type": "code",
      "execution_count": 9,
      "metadata": {},
      "outputs": [
        {
          "name": "stdout",
          "output_type": "stream",
          "text": [
            "train set: 54000 images\n",
            "validation set: 6000 images\n",
            "test set: 10000 images\n",
            "x shape: (1, 784)\n",
            "y shape: (1, 10)\n",
            "MLP(\n",
            "  (fc1): Linear(in_features=784, out_features=512)\n",
            "  (relu1): ReLU()\n",
            "  (fc2): Linear(in_features=512, out_features=64)\n",
            "  (relu2): ReLU()\n",
            "  (fc3): Linear(in_features=64, out_features=10)\n",
            "  (softmax): Softmax()\n",
            ")\n"
          ]
        },
        {
          "name": "stderr",
          "output_type": "stream",
          "text": [
            "100%|██████████| 54000/54000 [00:51<00:00, 1038.63it/s]\n"
          ]
        },
        {
          "name": "stdout",
          "output_type": "stream",
          "text": [
            "epoch 0: train_loss = 0.39486713815279834, train_acc = 0.8947222222222222\n"
          ]
        },
        {
          "name": "stderr",
          "output_type": "stream",
          "text": [
            "100%|██████████| 6000/6000 [00:00<00:00, 24221.62it/s]\n"
          ]
        },
        {
          "name": "stdout",
          "output_type": "stream",
          "text": [
            "epoch 0: valid_loss = 0.24249877178215073, valid_acc = 0.9275\n",
            "\n"
          ]
        },
        {
          "name": "stderr",
          "output_type": "stream",
          "text": [
            "100%|██████████| 54000/54000 [00:51<00:00, 1044.89it/s]\n"
          ]
        },
        {
          "name": "stdout",
          "output_type": "stream",
          "text": [
            "epoch 1: train_loss = 0.19888675581556317, train_acc = 0.9438703703703704\n"
          ]
        },
        {
          "name": "stderr",
          "output_type": "stream",
          "text": [
            "100%|██████████| 6000/6000 [00:00<00:00, 23881.93it/s]\n"
          ]
        },
        {
          "name": "stdout",
          "output_type": "stream",
          "text": [
            "epoch 1: valid_loss = 0.18018117839613032, valid_acc = 0.9441666666666667\n",
            "\n"
          ]
        },
        {
          "name": "stderr",
          "output_type": "stream",
          "text": [
            "100%|██████████| 54000/54000 [00:51<00:00, 1043.24it/s]\n"
          ]
        },
        {
          "name": "stdout",
          "output_type": "stream",
          "text": [
            "epoch 2: train_loss = 0.14914870401818509, train_acc = 0.9583148148148148\n"
          ]
        },
        {
          "name": "stderr",
          "output_type": "stream",
          "text": [
            "100%|██████████| 6000/6000 [00:00<00:00, 24170.53it/s]\n"
          ]
        },
        {
          "name": "stdout",
          "output_type": "stream",
          "text": [
            "epoch 2: valid_loss = 0.1488975818487196, valid_acc = 0.9553333333333334\n",
            "\n"
          ]
        },
        {
          "name": "stderr",
          "output_type": "stream",
          "text": [
            "100%|██████████| 54000/54000 [00:52<00:00, 1034.64it/s]\n"
          ]
        },
        {
          "name": "stdout",
          "output_type": "stream",
          "text": [
            "epoch 3: train_loss = 0.11902590738944548, train_acc = 0.967037037037037\n"
          ]
        },
        {
          "name": "stderr",
          "output_type": "stream",
          "text": [
            "100%|██████████| 6000/6000 [00:00<00:00, 24288.17it/s]\n"
          ]
        },
        {
          "name": "stdout",
          "output_type": "stream",
          "text": [
            "epoch 3: valid_loss = 0.13003047140503976, valid_acc = 0.9586666666666667\n",
            "\n"
          ]
        },
        {
          "name": "stderr",
          "output_type": "stream",
          "text": [
            "100%|██████████| 54000/54000 [00:51<00:00, 1039.15it/s]\n"
          ]
        },
        {
          "name": "stdout",
          "output_type": "stream",
          "text": [
            "epoch 4: train_loss = 0.09855710974387617, train_acc = 0.9728333333333333\n"
          ]
        },
        {
          "name": "stderr",
          "output_type": "stream",
          "text": [
            "100%|██████████| 6000/6000 [00:00<00:00, 23794.39it/s]\n"
          ]
        },
        {
          "name": "stdout",
          "output_type": "stream",
          "text": [
            "epoch 4: valid_loss = 0.11725223846427299, valid_acc = 0.9636666666666667\n",
            "\n"
          ]
        },
        {
          "name": "stderr",
          "output_type": "stream",
          "text": [
            "100%|██████████| 54000/54000 [00:52<00:00, 1036.68it/s]\n"
          ]
        },
        {
          "name": "stdout",
          "output_type": "stream",
          "text": [
            "epoch 5: train_loss = 0.08355117485498004, train_acc = 0.9774074074074074\n"
          ]
        },
        {
          "name": "stderr",
          "output_type": "stream",
          "text": [
            "100%|██████████| 6000/6000 [00:00<00:00, 24113.60it/s]\n"
          ]
        },
        {
          "name": "stdout",
          "output_type": "stream",
          "text": [
            "epoch 5: valid_loss = 0.10803349635037313, valid_acc = 0.9661666666666666\n",
            "\n"
          ]
        },
        {
          "name": "stderr",
          "output_type": "stream",
          "text": [
            "100%|██████████| 54000/54000 [00:51<00:00, 1043.57it/s]\n"
          ]
        },
        {
          "name": "stdout",
          "output_type": "stream",
          "text": [
            "epoch 6: train_loss = 0.07196990830133436, train_acc = 0.9807222222222223\n"
          ]
        },
        {
          "name": "stderr",
          "output_type": "stream",
          "text": [
            "100%|██████████| 6000/6000 [00:00<00:00, 24308.84it/s]\n"
          ]
        },
        {
          "name": "stdout",
          "output_type": "stream",
          "text": [
            "epoch 6: valid_loss = 0.10090935449249239, valid_acc = 0.967\n",
            "\n"
          ]
        },
        {
          "name": "stderr",
          "output_type": "stream",
          "text": [
            "100%|██████████| 54000/54000 [00:52<00:00, 1034.39it/s]\n"
          ]
        },
        {
          "name": "stdout",
          "output_type": "stream",
          "text": [
            "epoch 7: train_loss = 0.06272423243725513, train_acc = 0.9835185185185186\n"
          ]
        },
        {
          "name": "stderr",
          "output_type": "stream",
          "text": [
            "100%|██████████| 6000/6000 [00:00<00:00, 24007.19it/s]\n"
          ]
        },
        {
          "name": "stdout",
          "output_type": "stream",
          "text": [
            "epoch 7: valid_loss = 0.09541555517409324, valid_acc = 0.9691666666666666\n",
            "\n"
          ]
        },
        {
          "name": "stderr",
          "output_type": "stream",
          "text": [
            "100%|██████████| 54000/54000 [00:51<00:00, 1038.60it/s]\n"
          ]
        },
        {
          "name": "stdout",
          "output_type": "stream",
          "text": [
            "epoch 8: train_loss = 0.05507899726715303, train_acc = 0.985537037037037\n"
          ]
        },
        {
          "name": "stderr",
          "output_type": "stream",
          "text": [
            "100%|██████████| 6000/6000 [00:00<00:00, 23730.13it/s]\n"
          ]
        },
        {
          "name": "stdout",
          "output_type": "stream",
          "text": [
            "epoch 8: valid_loss = 0.09068859162762159, valid_acc = 0.97\n",
            "\n"
          ]
        },
        {
          "name": "stderr",
          "output_type": "stream",
          "text": [
            "100%|██████████| 54000/54000 [00:52<00:00, 1032.24it/s]\n"
          ]
        },
        {
          "name": "stdout",
          "output_type": "stream",
          "text": [
            "epoch 9: train_loss = 0.04864669430897086, train_acc = 0.9875925925925926\n"
          ]
        },
        {
          "name": "stderr",
          "output_type": "stream",
          "text": [
            "100%|██████████| 6000/6000 [00:00<00:00, 24138.61it/s]"
          ]
        },
        {
          "name": "stdout",
          "output_type": "stream",
          "text": [
            "epoch 9: valid_loss = 0.08685051379222415, valid_acc = 0.971\n",
            "\n"
          ]
        },
        {
          "name": "stderr",
          "output_type": "stream",
          "text": [
            "\n"
          ]
        }
      ],
      "source": [
        "def transform(x):\n",
        "    \"\"\"map pixels information from range(0, 255) to range(0.01, 1)\"\"\"\n",
        "    return np.asfarray(x) * 0.99 + 0.01\n",
        "\n",
        "\n",
        "trainldr, validldr, testldr = load_mnist_data(\n",
        "    \"../data\", batch_size=1, transform=transform\n",
        ")\n",
        "print(f\"train set: {len(trainldr)} images\")\n",
        "print(f\"validation set: {len(validldr)} images\")\n",
        "print(f\"test set: {len(testldr)} images\")\n",
        "for x, y in trainldr:\n",
        "    print(f\"x shape: {x.shape}\")\n",
        "    print(f\"y shape: {y.shape}\")\n",
        "    break\n",
        "\n",
        "net = MLP()\n",
        "print(net)\n",
        "train_loss, train_acc, valid_loss, valid_acc = train(\n",
        "    net, trainldr, validldr, epochs=10, lr=0.0001\n",
        ")"
      ]
    },
    {
      "cell_type": "code",
      "execution_count": 10,
      "metadata": {
        "id": "YkIarEYOsNIL"
      },
      "outputs": [
        {
          "name": "stderr",
          "output_type": "stream",
          "text": [
            "100%|██████████| 10000/10000 [00:00<00:00, 23557.67it/s]"
          ]
        },
        {
          "name": "stdout",
          "output_type": "stream",
          "text": [
            "test_loss = 0.07949425586468625, test_acc = 0.9756\n"
          ]
        },
        {
          "name": "stderr",
          "output_type": "stream",
          "text": [
            "\n"
          ]
        }
      ],
      "source": [
        "# Using test_images and test_labels to do the final test\n",
        "test_loss, test_acc = evaluate(net, testldr)\n",
        "print(f\"test_loss = {test_loss}, test_acc = {test_acc}\")"
      ]
    },
    {
      "cell_type": "markdown",
      "metadata": {},
      "source": [
        "## 3. Plot epoch-accuracy curves"
      ]
    },
    {
      "cell_type": "code",
      "execution_count": 12,
      "metadata": {
        "id": "83d2qq4oCvy6"
      },
      "outputs": [
        {
          "data": {
            "image/png": "[encoded data removed]",
            "text/plain": [
              "<Figure size 1000x400 with 2 Axes>"
            ]
          },
          "metadata": {},
          "output_type": "display_data"
        }
      ],
      "source": [
        "# plot accuracy and loss curves\n",
        "fig, (ax1, ax2) = plt.subplots(1, 2, figsize=(10, 4))\n",
        "\n",
        "ax1.plot(train_loss, label = \"Training\")\n",
        "ax1.plot(valid_loss, label = \"Validation\")\n",
        "ax1.legend()\n",
        "ax1.set_title(\"Loss\")\n",
        "ax1.set_xlabel(\"Epochs\")\n",
        "\n",
        "ax2.plot(train_acc, label = \"Training\")\n",
        "ax2.plot(valid_acc, label = \"Validation\")\n",
        "ax2.legend()\n",
        "ax2.set_title(\"Accuracy\")\n",
        "ax2.set_xlabel(\"Epochs\")\n",
        "\n",
        "plt.tight_layout()\n",
        "plt.savefig(\"acc-loss.png\")\n",
        "plt.show()"
      ]
    }
  ],
  "metadata": {
    "colab": {
      "provenance": []
    },
    "kernelspec": {
      "display_name": "Python 3",
      "name": "python3"
    },
    "language_info": {
      "codemirror_mode": {
        "name": "ipython",
        "version": 3
      },
      "file_extension": ".py",
      "mimetype": "text/x-python",
      "name": "python",
      "nbconvert_exporter": "python",
      "pygments_lexer": "ipython3",
      "version": "3.12.2"
    }
  },
  "nbformat": 4,
  "nbformat_minor": 0
}
