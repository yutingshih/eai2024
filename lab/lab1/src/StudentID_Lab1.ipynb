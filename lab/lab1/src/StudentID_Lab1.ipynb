{
  "nbformat": 4,
  "nbformat_minor": 0,
  "metadata": {
    "colab": {
      "provenance": []
    },
    "kernelspec": {
      "name": "python3",
      "display_name": "Python 3"
    },
    "language_info": {
      "name": "python"
    }
  },
  "cells": [
    {
      "cell_type": "markdown",
      "source": [
        "###1. Implement the following layers as python functions(both forward and backward propagation)\n",
        "* Inner-product layer\n",
        "* Activation layer(Sigmoid or Rectified)\n",
        "* Softmax layer\n",
        "\n",
        "###2. Implement training and testing process\n",
        "* included cross-validation\n",
        "\n",
        "###3. Plot epoch-accuracy curves\n"
      ],
      "metadata": {
        "id": "rlmh1D8ia79e"
      }
    },
    {
      "cell_type": "code",
      "execution_count": null,
      "metadata": {
        "id": "jgMAQNAnr_k1"
      },
      "outputs": [],
      "source": [
        "from google.colab import drive\n",
        "drive.mount('/content/drive')"
      ]
    },
    {
      "cell_type": "code",
      "source": [
        "%cd /content/drive/MyDrive/AI_Lab1"
      ],
      "metadata": {
        "id": "MUds0dh6WX0G"
      },
      "execution_count": null,
      "outputs": []
    },
    {
      "cell_type": "code",
      "source": [
        "import numpy as np\n",
        "import matplotlib.pyplot as plt"
      ],
      "metadata": {
        "id": "ukxBJ3dksMZ-"
      },
      "execution_count": null,
      "outputs": []
    },
    {
      "cell_type": "code",
      "source": [
        "# load MNIST dataset\n",
        "image_size = 28           # width and length\n",
        "no_of_different_labels = 10     #  i.e. 0, 1, 2, 3, ..., 9\n",
        "image_pixels = image_size * image_size\n",
        "train_data = np.loadtxt(\"mnist_train.csv\", delimiter=\",\")\n",
        "test_data = np.loadtxt(\"mnist_test.csv\", delimiter=\",\")\n",
        "\n",
        "# data preprocessing\n",
        "\n",
        "# map pixels information from range(0, 255) to range(0.01, 1)\n",
        "fac = 0.99 / 255\n",
        "train_imgs = np.asfarray(train_data[:, 1:]) * fac + 0.01\n",
        "test_imgs = np.asfarray(test_data[:, 1:]) * fac + 0.01\n",
        "\n",
        "print(train_imgs.shape)\n",
        "train_labels = np.asfarray(train_data[:, :1])\n",
        "test_labels = np.asfarray(test_data[:, :1])\n",
        "\n",
        "lr = np.arange(no_of_different_labels)\n",
        "\n",
        "# transform labels into one hot representation\n",
        "train_labels_one_hot = (lr==train_labels).astype(np.float64)\n",
        "test_labels_one_hot = (lr==test_labels).astype(np.float64)\n"
      ],
      "metadata": {
        "id": "j8seIvepsQ1a"
      },
      "execution_count": null,
      "outputs": []
    },
    {
      "cell_type": "code",
      "source": [
        "# Separate train_imgs, train_labels into training and validation\n"
      ],
      "metadata": {
        "id": "8yExx60TCWuq"
      },
      "execution_count": null,
      "outputs": []
    },
    {
      "cell_type": "code",
      "source": [
        "#layer definition\n",
        "def InnerProduct_ForProp(x,W,b):\n",
        "\n",
        "    return y\n",
        "\n",
        "def InnerProduct_BackProp(dEdy,x,W,b):\n",
        "\n",
        "    return dEdx,dEdW,dWdb\n",
        "\n",
        "def Softmax_ForProp(x):\n",
        "\n",
        "    return y\n",
        "\n",
        "def Softmax_BackProp(y,t):\n",
        "\n",
        "    return dEdx\n",
        "\n",
        "def Sigmoid_ForProp(x):\n",
        "\n",
        "    return y\n",
        "\n",
        "def Sigmoid_BackProp(dEdy,x):\n",
        "\n",
        "    return dEdx\n",
        "\n",
        "def Rectified_ForProp(x):\n",
        "\n",
        "    return y\n",
        "\n",
        "def Rectified_BackProp(dEdy,x):\n",
        "\n",
        "    returen dEdx\n",
        "\n",
        "# you can also create your own class which includes each layer"
      ],
      "metadata": {
        "id": "v164Rtl4vDN9"
      },
      "execution_count": null,
      "outputs": []
    },
    {
      "cell_type": "code",
      "source": [
        "for i in range(iteration)\n",
        "    # Forward-propagation\n",
        "\n",
        "\n",
        "    # Backward-propagation\n",
        "\n",
        "\n",
        "\n",
        "    # Parameter Updating (Gradient decent)\n",
        "\n",
        "\n",
        "    # Use validation data to evaluate model"
      ],
      "metadata": {
        "id": "jMLeRKqdvJ88"
      },
      "execution_count": null,
      "outputs": []
    },
    {
      "cell_type": "code",
      "source": [
        "# Using test_images and test_labels to do the final test"
      ],
      "metadata": {
        "id": "YkIarEYOsNIL"
      },
      "execution_count": null,
      "outputs": []
    },
    {
      "cell_type": "code",
      "source": [
        "# plot accuracy and loss curves\n"
      ],
      "metadata": {
        "id": "83d2qq4oCvy6"
      },
      "execution_count": null,
      "outputs": []
    }
  ]
}